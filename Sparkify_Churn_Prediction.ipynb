{
 "cells": [
  {
   "cell_type": "markdown",
   "metadata": {},
   "source": [
    "# Sparkify Churn Prediction\n",
    "This project intends to use Sparkify user data to identify at-risk users who will likely churn. A small subset(128MB) of the full data (12GB) is used for initial analysis and model development. Once the features and models are selected, the script can be deployed to Spark to build the model on the full dataset."
   ]
  },
  {
   "cell_type": "code",
   "execution_count": 210,
   "metadata": {},
   "outputs": [],
   "source": [
    "# Import libraries\n",
    "from pyspark.sql import SparkSession\n",
    "import pyspark.sql.functions as F\n",
    "from pyspark.sql.functions import avg, col, concat, desc, lit, min, max, split, udf, countDistinct, sum, count\n",
    "from pyspark.sql.types import IntegerType, DoubleType\n",
    "from pyspark.sql import Window\n",
    "\n",
    "from pyspark.ml import Pipeline\n",
    "from pyspark.ml.feature import VectorAssembler, StandardScaler\n",
    "from pyspark.ml.classification import LogisticRegression,GBTClassifier,LinearSVC, RandomForestClassifier\n",
    "from pyspark.ml.evaluation import MulticlassClassificationEvaluator\n",
    "from pyspark.mllib.evaluation import MulticlassMetrics\n",
    "from pyspark.ml.tuning import CrossValidator, ParamGridBuilder\n",
    "\n",
    "import numpy as np\n",
    "import pandas as pd\n",
    "\n",
    "import matplotlib.pyplot as plt\n",
    "import matplotlib.dates as mdates\n",
    "%matplotlib inline\n",
    "\n",
    "import seaborn as sns"
   ]
  },
  {
   "cell_type": "code",
   "execution_count": 2,
   "metadata": {},
   "outputs": [],
   "source": [
    "# Create a Spark session\n",
    "spark = SparkSession.builder \\\n",
    "    .master(\"local\") \\\n",
    "    .appName(\"Sparkify\") \\\n",
    "    .getOrCreate()"
   ]
  },
  {
   "cell_type": "markdown",
   "metadata": {},
   "source": [
    "# Load and Clean Dataset\n",
    "In this workspace, the mini-dataset file is `mini_sparkify_event_data.json`."
   ]
  },
  {
   "cell_type": "code",
   "execution_count": 222,
   "metadata": {},
   "outputs": [],
   "source": [
    "# Read json data\n",
    "sparkify_data = 'mini_sparkify_event_data.json'\n",
    "df = spark.read.json(sparkify_data)"
   ]
  },
  {
   "cell_type": "code",
   "execution_count": 4,
   "metadata": {
    "tags": []
   },
   "outputs": [
    {
     "name": "stdout",
     "output_type": "stream",
     "text": [
      "root\n",
      " |-- artist: string (nullable = true)\n",
      " |-- auth: string (nullable = true)\n",
      " |-- firstName: string (nullable = true)\n",
      " |-- gender: string (nullable = true)\n",
      " |-- itemInSession: long (nullable = true)\n",
      " |-- lastName: string (nullable = true)\n",
      " |-- length: double (nullable = true)\n",
      " |-- level: string (nullable = true)\n",
      " |-- location: string (nullable = true)\n",
      " |-- method: string (nullable = true)\n",
      " |-- page: string (nullable = true)\n",
      " |-- registration: long (nullable = true)\n",
      " |-- sessionId: long (nullable = true)\n",
      " |-- song: string (nullable = true)\n",
      " |-- status: long (nullable = true)\n",
      " |-- ts: long (nullable = true)\n",
      " |-- userAgent: string (nullable = true)\n",
      " |-- userId: string (nullable = true)\n",
      "\n"
     ]
    }
   ],
   "source": [
    "# Print Schema\n",
    "df.printSchema()"
   ]
  },
  {
   "cell_type": "code",
   "execution_count": 216,
   "metadata": {},
   "outputs": [
    {
     "name": "stdout",
     "output_type": "stream",
     "text": [
      "Total activity records:  286500\n"
     ]
    }
   ],
   "source": [
    "# Total sessions\n",
    "print('Total activity records: ',df.count())"
   ]
  },
  {
   "cell_type": "code",
   "execution_count": 8,
   "metadata": {
    "tags": []
   },
   "outputs": [
    {
     "name": "stdout",
     "output_type": "stream",
     "text": [
      "+----------+----------------------+\n",
      "|      auth|count(DISTINCT userId)|\n",
      "+----------+----------------------+\n",
      "|Logged Out|                     1|\n",
      "| Cancelled|                    52|\n",
      "|     Guest|                     1|\n",
      "| Logged In|                   225|\n",
      "+----------+----------------------+\n",
      "\n"
     ]
    }
   ],
   "source": [
    "# Get auth summary\n",
    "df.groupby('auth').agg(F.countDistinct('userId')).show()"
   ]
  },
  {
   "cell_type": "code",
   "execution_count": 223,
   "metadata": {},
   "outputs": [],
   "source": [
    "# Filter out status Guest and Logged Out to exclude guests\n",
    "df_clean = df.filter((col('auth') == 'Cancelled') | (col('auth') == 'Logged In'))"
   ]
  },
  {
   "cell_type": "code",
   "execution_count": 224,
   "metadata": {
    "tags": []
   },
   "outputs": [
    {
     "name": "stdout",
     "output_type": "stream",
     "text": [
      "+----------------------+\n",
      "|count(DISTINCT userId)|\n",
      "+----------------------+\n",
      "|                   225|\n",
      "+----------------------+\n",
      "\n"
     ]
    }
   ],
   "source": [
    "# Count User\n",
    "df_clean.agg(countDistinct('userId')).show()"
   ]
  },
  {
   "cell_type": "code",
   "execution_count": 230,
   "metadata": {},
   "outputs": [
    {
     "name": "stdout",
     "output_type": "stream",
     "text": [
      "+-------+-----------------+------------------+\n",
      "|summary|           userId|         sessionId|\n",
      "+-------+-----------------+------------------+\n",
      "|  count|           278154|            278154|\n",
      "|   mean|59682.02278593872|1042.5616241362698|\n",
      "| stddev|109091.9499991047| 726.5010362219813|\n",
      "|    min|               10|                 1|\n",
      "|    max|               99|              2474|\n",
      "+-------+-----------------+------------------+\n",
      "\n"
     ]
    }
   ],
   "source": [
    "df_clean.describe('userId', 'sessionId').show()"
   ]
  },
  {
   "cell_type": "code",
   "execution_count": 225,
   "metadata": {},
   "outputs": [
    {
     "data": {
      "text/plain": [
       "0"
      ]
     },
     "execution_count": 225,
     "metadata": {},
     "output_type": "execute_result"
    }
   ],
   "source": [
    "# Check for nulls\n",
    "df_clean.filter(df_clean.userId == '').count()"
   ]
  },
  {
   "cell_type": "code",
   "execution_count": 228,
   "metadata": {},
   "outputs": [
    {
     "data": {
      "text/plain": [
       "0"
      ]
     },
     "execution_count": 228,
     "metadata": {},
     "output_type": "execute_result"
    }
   ],
   "source": [
    "df_clean.filter(df_clean.sessionId == '').count()"
   ]
  },
  {
   "cell_type": "markdown",
   "metadata": {},
   "source": [
    "# Exploratory Data Analysis\n",
    "\n",
    "\n",
    "### Define Churn\n",
    "During the data cleaning process, we've seen that **Cancelled** status is probably related to churn. for all **225** users in the small dataset, **52** of them have cancelled the service. The overall churn probability is **23.11%**"
   ]
  },
  {
   "cell_type": "code",
   "execution_count": 231,
   "metadata": {},
   "outputs": [
    {
     "data": {
      "text/plain": [
       "[Row(artist=None, auth='Cancelled', firstName='Adriel', gender='M', itemInSession=104, lastName='Mendoza', length=None, level='paid', location='Kansas City, MO-KS', method='GET', page='Cancellation Confirmation', registration=1535623466000, sessionId=514, song=None, status=200, ts=1538943990000, userAgent='\"Mozilla/5.0 (Macintosh; Intel Mac OS X 10_9_4) AppleWebKit/537.77.4 (KHTML, like Gecko) Version/7.0.5 Safari/537.77.4\"', userId='18')]"
      ]
     },
     "execution_count": 231,
     "metadata": {},
     "output_type": "execute_result"
    }
   ],
   "source": [
    "# Investigate cancellation records\n",
    "df_clean.filter(df.auth == 'Cancelled').take(1)"
   ]
  },
  {
   "cell_type": "code",
   "execution_count": 252,
   "metadata": {},
   "outputs": [],
   "source": [
    "# Get churn 1/0\n",
    "cancel = udf(lambda auth: 1 if auth == 'Cancelled' else 0, IntegerType())"
   ]
  },
  {
   "cell_type": "code",
   "execution_count": 253,
   "metadata": {},
   "outputs": [],
   "source": [
    "df_clean = df_clean.withColumn('cancel', cancel('auth'))"
   ]
  },
  {
   "cell_type": "code",
   "execution_count": 254,
   "metadata": {
    "tags": []
   },
   "outputs": [
    {
     "name": "stdout",
     "output_type": "stream",
     "text": [
      "+--------------------+------+------+\n",
      "|                page|method| count|\n",
      "+--------------------+------+------+\n",
      "|               About|   GET|   495|\n",
      "|            Settings|   GET|  1514|\n",
      "|                Help|   GET|  1454|\n",
      "|           Downgrade|   GET|  2055|\n",
      "|             Upgrade|   GET|   499|\n",
      "|               Error|   GET|   252|\n",
      "|Cancellation Conf...|   GET|    52|\n",
      "|                Home|   GET| 10082|\n",
      "|         Roll Advert|   GET|  3933|\n",
      "|          Add Friend|   PUT|  4277|\n",
      "|              Logout|   PUT|  3226|\n",
      "|              Cancel|   PUT|    52|\n",
      "|      Submit Upgrade|   PUT|   159|\n",
      "|     Add to Playlist|   PUT|  6526|\n",
      "|    Submit Downgrade|   PUT|    63|\n",
      "|       Save Settings|   PUT|   310|\n",
      "|         Thumbs Down|   PUT|  2546|\n",
      "|            NextSong|   PUT|228108|\n",
      "|           Thumbs Up|   PUT| 12551|\n",
      "+--------------------+------+------+\n",
      "\n"
     ]
    }
   ],
   "source": [
    "# All user activity types\n",
    "pages = df_clean.groupby('page','method').count().sort('method')\n",
    "pages.show()"
   ]
  },
  {
   "cell_type": "code",
   "execution_count": 233,
   "metadata": {},
   "outputs": [
    {
     "data": {
      "image/png": "[encoded data removed]",
      "text/plain": [
       "<matplotlib.figure.Figure at 0x7f37d1e8a550>"
      ]
     },
     "metadata": {
      "needs_background": "light"
     },
     "output_type": "display_data"
    }
   ],
   "source": [
    "# Use'PUT' to get user proactive activities\n",
    "pages_df = pages.toPandas()\n",
    "pages_df_plt = pages_df.loc[(pages_df['method'] == 'PUT') & (pages_df['page'] != 'NextSong')]\n",
    "\n",
    "activity = pages_df_plt['page']\n",
    "count = pages_df_plt['count']\n",
    "\n",
    "plt.barh(activity, count)\n",
    "plt.ylabel('Page')\n",
    "plt.xlabel('Total Activities')\n",
    "plt.title('User Activity Summary')\n",
    "\n",
    "plt.show()"
   ]
  },
  {
   "cell_type": "code",
   "execution_count": 236,
   "metadata": {
    "tags": []
   },
   "outputs": [
    {
     "name": "stdout",
     "output_type": "stream",
     "text": [
      "+-----+---------+----------------+-------------+------------------+\n",
      "|level|sessionId|            page|           ts|            length|\n",
      "+-----+---------+----------------+-------------+------------------+\n",
      "| free|     2281|            Home|1543548083000|              null|\n",
      "| free|     2155|      Add Friend|1543120417000|              null|\n",
      "| free|     2155|     Thumbs Down|1543117205000|              null|\n",
      "| free|     2155|            Home|1543114842000|              null|\n",
      "| free|     2155|          Logout|1543114535000|              null|\n",
      "| free|     2155|     Roll Advert|1543114106000|              null|\n",
      "| free|     2155|       Thumbs Up|1543111791000|              null|\n",
      "| free|     2155|           About|1543110822000|              null|\n",
      "| free|     2155| Add to Playlist|1543109614000|              null|\n",
      "| free|     2155|        NextSong|1543109551000|11182.815799999997|\n",
      "| free|     2094|        NextSong|1542799890000|         563.35582|\n",
      "| free|     2094|            Home|1542799886000|              null|\n",
      "| free|     2041|     Roll Advert|1542672916000|              null|\n",
      "| free|     2041|        NextSong|1542671679000|        1865.66169|\n",
      "| free|     2041|            Home|1542671520000|              null|\n",
      "| paid|     2041|Submit Downgrade|1542671497000|              null|\n",
      "| paid|     2041|      Add Friend|1542669594000|              null|\n",
      "| paid|     2041|            Home|1542665777000|              null|\n",
      "| paid|     2041|            Help|1542663511000|              null|\n",
      "| paid|     2041|     Thumbs Down|1542658874000|              null|\n",
      "| paid|     2041|       Thumbs Up|1542655091000|              null|\n",
      "| paid|     2041|       Downgrade|1542654089000|              null|\n",
      "| paid|     2041| Add to Playlist|1542653604000|              null|\n",
      "| paid|     2041|        Settings|1542653115000|              null|\n",
      "| paid|     2041|        NextSong|1542651137000|       20587.69085|\n",
      "| paid|     1881|           About|1542504324000|              null|\n",
      "| paid|     1881|     Thumbs Down|1542502295000|              null|\n",
      "| paid|     1881|            Home|1542497345000|              null|\n",
      "| paid|     1881|       Thumbs Up|1542493657000|              null|\n",
      "| paid|     1881|        NextSong|1542491397000|13187.164290000002|\n",
      "+-----+---------+----------------+-------------+------------------+\n",
      "only showing top 30 rows\n",
      "\n"
     ]
    }
   ],
   "source": [
    "# Example of user downgrade\n",
    "# Downgrade happens right after user submit downgrade\n",
    "df_clean.filter(col('userId') == '131').groupby(['level','sessionId','page']\\\n",
    "                                         ).agg(min(col('ts')).alias('ts'),\\\n",
    "                                              sum(col('length')).alias('length')).sort(col('ts').desc()).show(30)"
   ]
  },
  {
   "cell_type": "code",
   "execution_count": 265,
   "metadata": {},
   "outputs": [
    {
     "data": {
      "image/png": "[encoded data removed]",
      "text/plain": [
       "<matplotlib.figure.Figure at 0x7f378a4b9898>"
      ]
     },
     "metadata": {
      "needs_background": "light"
     },
     "output_type": "display_data"
    }
   ],
   "source": [
    "# Get user location\n",
    "df_loc = df_clean.groupby('location').agg(countDistinct('userId')).toPandas()\n",
    "df_loc = df_loc.sort_values('count(DISTINCT userId)', ascending = False).iloc[:20,:]\n",
    "\n",
    "plt.bar(df_loc['location'], df_loc['count(DISTINCT userId)'])\n",
    "plt.ylabel('Distinct User')\n",
    "plt.xlabel('Location')\n",
    "plt.title('User Location Summary')\n",
    "plt.xticks(rotation='vertical')\n",
    "\n",
    "plt.show()"
   ]
  },
  {
   "cell_type": "markdown",
   "metadata": {},
   "source": [
    "# Feature Engineering"
   ]
  },
  {
   "cell_type": "code",
   "execution_count": 268,
   "metadata": {},
   "outputs": [
    {
     "data": {
      "text/plain": [
       "[Row(artist='Martha Tilston', auth='Logged In', firstName='Colin', gender='M', itemInSession=50, lastName='Freeman', length=277.89016, level='paid', location='Bakersfield, CA', method='PUT', page='NextSong', registration=1538173362000, sessionId=29, song='Rockpools', status=200, ts=1538352117000, userAgent='Mozilla/5.0 (Windows NT 6.1; WOW64; rv:31.0) Gecko/20100101 Firefox/31.0', userId='30', cancel=0, date=datetime.date(2018, 10, 1))]"
      ]
     },
     "execution_count": 268,
     "metadata": {},
     "output_type": "execute_result"
    }
   ],
   "source": [
    "# Convert ts to date\n",
    "df_feat = df_clean.withColumn(\"date\", F.to_date(F.from_unixtime(col('ts')/lit(1000))))\n",
    "df_feat.take(1)"
   ]
  },
  {
   "cell_type": "code",
   "execution_count": 269,
   "metadata": {
    "tags": []
   },
   "outputs": [
    {
     "name": "stdout",
     "output_type": "stream",
     "text": [
      "+----------+\n",
      "| min(date)|\n",
      "+----------+\n",
      "|2018-10-01|\n",
      "+----------+\n",
      "\n"
     ]
    }
   ],
   "source": [
    "# Get date range\n",
    "df_feat.select('date').agg(min('date')).show()"
   ]
  },
  {
   "cell_type": "code",
   "execution_count": 240,
   "metadata": {},
   "outputs": [
    {
     "name": "stdout",
     "output_type": "stream",
     "text": [
      "+----------+\n",
      "| max(date)|\n",
      "+----------+\n",
      "|2018-12-03|\n",
      "+----------+\n",
      "\n"
     ]
    }
   ],
   "source": [
    "df_feat.select('date').agg(max('date')).show()"
   ]
  },
  {
   "cell_type": "code",
   "execution_count": 241,
   "metadata": {},
   "outputs": [],
   "source": [
    "# Get user activity summary over time\n",
    "time = df_feat.select(['date','sessionId','userId','level','song']\\\n",
    "                      ).groupby(['date','level']).agg(F.count(col('sessionId')), F.countDistinct(col('userId')),\\\n",
    "                                                      F.count(col('song')))"
   ]
  },
  {
   "cell_type": "code",
   "execution_count": 242,
   "metadata": {},
   "outputs": [
    {
     "data": {
      "text/html": [
       "<div>\n",
       "<style scoped>\n",
       "    .dataframe tbody tr th:only-of-type {\n",
       "        vertical-align: middle;\n",
       "    }\n",
       "\n",
       "    .dataframe tbody tr th {\n",
       "        vertical-align: top;\n",
       "    }\n",
       "\n",
       "    .dataframe thead th {\n",
       "        text-align: right;\n",
       "    }\n",
       "</style>\n",
       "<table border=\"1\" class=\"dataframe\">\n",
       "  <thead>\n",
       "    <tr style=\"text-align: right;\">\n",
       "      <th></th>\n",
       "      <th>date</th>\n",
       "      <th>level</th>\n",
       "      <th>count(sessionId)</th>\n",
       "      <th>count(DISTINCT userId)</th>\n",
       "      <th>count(song)</th>\n",
       "    </tr>\n",
       "  </thead>\n",
       "  <tbody>\n",
       "    <tr>\n",
       "      <th>0</th>\n",
       "      <td>2018-11-25</td>\n",
       "      <td>paid</td>\n",
       "      <td>2376</td>\n",
       "      <td>20</td>\n",
       "      <td>2000</td>\n",
       "    </tr>\n",
       "    <tr>\n",
       "      <th>1</th>\n",
       "      <td>2018-10-27</td>\n",
       "      <td>free</td>\n",
       "      <td>548</td>\n",
       "      <td>13</td>\n",
       "      <td>427</td>\n",
       "    </tr>\n",
       "    <tr>\n",
       "      <th>2</th>\n",
       "      <td>2018-10-24</td>\n",
       "      <td>paid</td>\n",
       "      <td>4577</td>\n",
       "      <td>48</td>\n",
       "      <td>3831</td>\n",
       "    </tr>\n",
       "    <tr>\n",
       "      <th>3</th>\n",
       "      <td>2018-10-20</td>\n",
       "      <td>paid</td>\n",
       "      <td>4881</td>\n",
       "      <td>33</td>\n",
       "      <td>4107</td>\n",
       "    </tr>\n",
       "    <tr>\n",
       "      <th>4</th>\n",
       "      <td>2018-10-20</td>\n",
       "      <td>free</td>\n",
       "      <td>816</td>\n",
       "      <td>19</td>\n",
       "      <td>605</td>\n",
       "    </tr>\n",
       "  </tbody>\n",
       "</table>\n",
       "</div>"
      ],
      "text/plain": [
       "         date level  count(sessionId)  count(DISTINCT userId)  count(song)\n",
       "0  2018-11-25  paid              2376                      20         2000\n",
       "1  2018-10-27  free               548                      13          427\n",
       "2  2018-10-24  paid              4577                      48         3831\n",
       "3  2018-10-20  paid              4881                      33         4107\n",
       "4  2018-10-20  free               816                      19          605"
      ]
     },
     "execution_count": 242,
     "metadata": {},
     "output_type": "execute_result"
    }
   ],
   "source": [
    "# Export to pandas for visualization\n",
    "df_time = time.toPandas()\n",
    "df_time.head()"
   ]
  },
  {
   "cell_type": "code",
   "execution_count": 245,
   "metadata": {},
   "outputs": [
    {
     "data": {
      "image/png": "[encoded data removed]",
      "text/plain": [
       "<matplotlib.figure.Figure at 0x7f378a406550>"
      ]
     },
     "metadata": {
      "needs_background": "light"
     },
     "output_type": "display_data"
    }
   ],
   "source": [
    "# Count session over time\n",
    "date = df_time['date']\n",
    "count = df_time['count(sessionId)']\n",
    "\n",
    "plt.gca().xaxis.set_major_formatter(mdates.DateFormatter('%m/%d/%Y'))\n",
    "plt.gca().xaxis.set_major_locator(mdates.DayLocator(interval=15))\n",
    "\n",
    "# beautifying the labels\n",
    "plt.plot_date(df_time['date'][df_time.level == \"paid\"], df_time['count(sessionId)'][df_time.level == \"paid\"], label = 'paid')\n",
    "plt.plot_date(df_time['date'][df_time.level == \"free\"], df_time['count(sessionId)'][df_time.level == \"free\"], label = 'free')\n",
    "plt.legend()\n",
    "plt.ylabel('Count Session')\n",
    "plt.xlabel('Date')\n",
    "plt.title('User Session Summary')\n",
    "plt.show()"
   ]
  },
  {
   "cell_type": "code",
   "execution_count": 246,
   "metadata": {},
   "outputs": [
    {
     "data": {
      "image/png": "[encoded data removed]",
      "text/plain": [
       "<matplotlib.figure.Figure at 0x7f378a3f51d0>"
      ]
     },
     "metadata": {
      "needs_background": "light"
     },
     "output_type": "display_data"
    }
   ],
   "source": [
    "# Count user over time\n",
    "date = df_time['date']\n",
    "count = df_time['count(DISTINCT userId)']\n",
    "\n",
    "plt.gca().xaxis.set_major_formatter(mdates.DateFormatter('%m/%d/%Y'))\n",
    "plt.gca().xaxis.set_major_locator(mdates.DayLocator(interval=15))\n",
    "\n",
    "plt.plot_date(df_time['date'][df_time.level == \"paid\"], count[df_time.level == \"paid\"], label = 'paid')\n",
    "plt.plot_date(df_time['date'][df_time.level == \"free\"], count[df_time.level == \"free\"], label = 'free')\n",
    "plt.ylabel('Distinct User')\n",
    "plt.xlabel('Date')\n",
    "plt.title('Distinct User Summary')\n",
    "plt.legend()\n",
    "plt.show()"
   ]
  },
  {
   "cell_type": "markdown",
   "metadata": {},
   "source": [
    "From the dataset, the number of free users and free usersessions decreases over time."
   ]
  },
  {
   "cell_type": "code",
   "execution_count": 270,
   "metadata": {},
   "outputs": [],
   "source": [
    "# User registration date\n",
    "df_feat = df_feat.withColumn('date_created', F.to_date(F.from_unixtime(col('registration')/lit(1000))))"
   ]
  },
  {
   "cell_type": "code",
   "execution_count": 271,
   "metadata": {},
   "outputs": [],
   "source": [
    "# Get user age at the activity date\n",
    "df_feat = df_feat.withColumn('user_age',F.datediff(col('date'),col('date_created')))"
   ]
  },
  {
   "cell_type": "code",
   "execution_count": 272,
   "metadata": {
    "tags": []
   },
   "outputs": [
    {
     "name": "stdout",
     "output_type": "stream",
     "text": [
      "+-------+-----------------+\n",
      "|summary|         user_age|\n",
      "+-------+-----------------+\n",
      "|  count|           278154|\n",
      "|   mean|64.77642241348317|\n",
      "| stddev|41.92140025224181|\n",
      "|    min|               -2|\n",
      "|    max|              256|\n",
      "+-------+-----------------+\n",
      "\n"
     ]
    }
   ],
   "source": [
    "df_feat.describe('user_age').show()"
   ]
  },
  {
   "cell_type": "code",
   "execution_count": 280,
   "metadata": {},
   "outputs": [
    {
     "data": {
      "text/plain": [
       "<matplotlib.axes._subplots.AxesSubplot at 0x7f3789d839e8>"
      ]
     },
     "execution_count": 280,
     "metadata": {},
     "output_type": "execute_result"
    },
    {
     "data": {
      "image/png": "[encoded data removed]",
      "text/plain": [
       "<matplotlib.figure.Figure at 0x7f3789f93a58>"
      ]
     },
     "metadata": {
      "needs_background": "light"
     },
     "output_type": "display_data"
    }
   ],
   "source": [
    "#User cancel by age\n",
    "df_cancelled = df_feat.filter(col('cancel') == 1).select(['date','user_age','level']).toPandas()\n",
    "\n",
    "df_cancelled['user_age'].hist()"
   ]
  },
  {
   "cell_type": "code",
   "execution_count": 281,
   "metadata": {},
   "outputs": [],
   "source": [
    "# Get user interactions except for playing songs\n",
    "inter = ['Thumbs Up', 'Thumbs Down', 'Add to Playlist', 'Add Friend']\n",
    "get_interactions = udf(lambda x: 1 if x in inter else 0, IntegerType())\n",
    "\n",
    "# Get negative feedback from user\n",
    "thumbs_down = udf(lambda x: 1 if x == 'Thumbs Up' else 0, IntegerType())\n",
    "\n",
    "df_feat = df_feat.withColumn('interactions', get_interactions('page'))\n",
    "df_feat = df_feat.withColumn('thumbs_down', thumbs_down('page'))"
   ]
  },
  {
   "cell_type": "code",
   "execution_count": 282,
   "metadata": {},
   "outputs": [],
   "source": [
    "# Get number of songs played\n",
    "songs = udf(lambda x: 1 if x == 'NextSong' else 0, IntegerType())\n",
    "df_feat = df_feat.withColumn('songs', songs('page'))"
   ]
  },
  {
   "cell_type": "code",
   "execution_count": 283,
   "metadata": {},
   "outputs": [],
   "source": [
    "# Has the user ever used paied service\n",
    "paid_hist = udf(lambda x: 1 if x == 'paid' else 0, IntegerType())\n",
    "df_feat = df_feat.withColumn('paid_hist', paid_hist('level'))\n",
    "\n",
    "# Has the user ever downgraded\n",
    "downgrade = udf(lambda x: 1 if x == 'Submit Downgrade' else 0, IntegerType())\n",
    "df_feat = df_feat.withColumn('downgraded', downgrade('page'))"
   ]
  },
  {
   "cell_type": "code",
   "execution_count": 284,
   "metadata": {},
   "outputs": [],
   "source": [
    "# Convert gender to 1/0. 1 = female\n",
    "female = udf(lambda x: 1 if x == 'F' else 0, IntegerType())\n",
    "df_feat = df_feat.withColumn('female', female('gender'))"
   ]
  },
  {
   "cell_type": "code",
   "execution_count": 285,
   "metadata": {},
   "outputs": [],
   "source": [
    "# Get user level dimensions\n",
    "dims = df_feat.groupby('userId','female','date_created').agg(\\\n",
    "                                                          max('user_age').alias('user_age'),\\\n",
    "                                                          max('paid_hist').alias('paid_user'),\\\n",
    "                                                          max('downgraded').alias('downgraded'),\\\n",
    "                                                          max('cancel').alias('canceled'))"
   ]
  },
  {
   "cell_type": "code",
   "execution_count": 286,
   "metadata": {},
   "outputs": [
    {
     "data": {
      "text/plain": [
       "[Row(userId='142', female=0, date_created=datetime.date(2018, 9, 28), user_age=63, paid_user=1, downgraded=0, canceled=0)]"
      ]
     },
     "execution_count": 286,
     "metadata": {},
     "output_type": "execute_result"
    }
   ],
   "source": [
    "# Inspect Dimensions\n",
    "dims.take(1)"
   ]
  },
  {
   "cell_type": "code",
   "execution_count": 291,
   "metadata": {},
   "outputs": [],
   "source": [
    "# Get measures based on usersessions and interactions\n",
    "measures = df_feat.groupby('userId','sessionId').agg(\\\n",
    "                                                          min('date').alias('start_date'),\\\n",
    "                                                          max('date').alias('end_date'),\\\n",
    "                                                          sum('interactions').alias('interactions'),\\\n",
    "                                                          sum('thumbs_down').alias('thumbs_down'),\\\n",
    "                                                          sum('songs').alias('songs'),\\\n",
    "                                                          sum('length').alias('length'),\\\n",
    "                                                          countDistinct('artist').alias('c_artist'))"
   ]
  },
  {
   "cell_type": "code",
   "execution_count": 293,
   "metadata": {},
   "outputs": [],
   "source": [
    "# Get the date gap between sessions\n",
    "measures_lag = measures.withColumn('prev_end_date',\n",
    "                        F.lag(col('end_date')).over(Window.partitionBy('userID').orderBy('start_date')))\n",
    "\n",
    "measures_lag = measures_lag.withColumn('session_gap',\\\n",
    "                                      F.datediff(col('start_date'),col('prev_end_date')))\n",
    "\n",
    "measures_agg = measures_lag.groupby('userId').agg(\\\n",
    "                                                 F.count('sessionId').alias('total_session'),\\\n",
    "                                                 avg('interactions').alias('interactions'),\\\n",
    "                                                 avg('thumbs_down').alias('thumbs_down'),\\\n",
    "                                                 avg('songs').alias('songs'),\\\n",
    "                                                 avg('length').alias('length'),\\\n",
    "                                                 avg('c_artist').alias('artists'),\\\n",
    "                                                 avg('session_gap').alias('session_gap'))"
   ]
  },
  {
   "cell_type": "code",
   "execution_count": 294,
   "metadata": {},
   "outputs": [
    {
     "data": {
      "text/plain": [
       "[Row(userId='100010', total_session=7, interactions=4.714285714285714, thumbs_down=2.4285714285714284, songs=39.285714285714285, length=9562.985335714286, artists=38.57142857142857, session_gap=7.333333333333333)]"
      ]
     },
     "execution_count": 294,
     "metadata": {},
     "output_type": "execute_result"
    }
   ],
   "source": [
    "# Inspect measures\n",
    "measures_agg.take(1)"
   ]
  },
  {
   "cell_type": "code",
   "execution_count": 297,
   "metadata": {},
   "outputs": [
    {
     "name": "stdout",
     "output_type": "stream",
     "text": [
      "dim:  225  measure:  225\n"
     ]
    }
   ],
   "source": [
    "# Inspect dim and measure shape\n",
    "print('dim: ',dims.count(),' measure: ',measures_agg.count())"
   ]
  },
  {
   "cell_type": "code",
   "execution_count": 298,
   "metadata": {},
   "outputs": [],
   "source": [
    "# Join dims and measures\n",
    "output = dims.join(measures_agg, on = 'userId')"
   ]
  },
  {
   "cell_type": "code",
   "execution_count": 299,
   "metadata": {},
   "outputs": [
    {
     "data": {
      "text/plain": [
       "array([[<matplotlib.axes._subplots.AxesSubplot object at 0x7f378ef0a4a8>,\n",
       "        <matplotlib.axes._subplots.AxesSubplot object at 0x7f378a3f0240>,\n",
       "        <matplotlib.axes._subplots.AxesSubplot object at 0x7f378a6ebe10>],\n",
       "       [<matplotlib.axes._subplots.AxesSubplot object at 0x7f378a4cbda0>,\n",
       "        <matplotlib.axes._subplots.AxesSubplot object at 0x7f378a88ec18>,\n",
       "        <matplotlib.axes._subplots.AxesSubplot object at 0x7f378a878f60>],\n",
       "       [<matplotlib.axes._subplots.AxesSubplot object at 0x7f3789fa0b70>,\n",
       "        <matplotlib.axes._subplots.AxesSubplot object at 0x7f378ad0c128>,\n",
       "        <matplotlib.axes._subplots.AxesSubplot object at 0x7f378a4dacc0>],\n",
       "       [<matplotlib.axes._subplots.AxesSubplot object at 0x7f378a2fd470>,\n",
       "        <matplotlib.axes._subplots.AxesSubplot object at 0x7f378a2dcf28>,\n",
       "        <matplotlib.axes._subplots.AxesSubplot object at 0x7f378a08a1d0>]], dtype=object)"
      ]
     },
     "execution_count": 299,
     "metadata": {},
     "output_type": "execute_result"
    },
    {
     "data": {
      "image/png": "[encoded data removed]",
      "text/plain": [
       "<matplotlib.figure.Figure at 0x7f378eed3be0>"
      ]
     },
     "metadata": {
      "needs_background": "light"
     },
     "output_type": "display_data"
    }
   ],
   "source": [
    "# Inspect aggregated data\n",
    "model_df = output.toPandas()\n",
    "\n",
    "model_df.hist(figsize = (10,10))"
   ]
  },
  {
   "cell_type": "code",
   "execution_count": 300,
   "metadata": {},
   "outputs": [
    {
     "data": {
      "text/plain": [
       "<matplotlib.axes._subplots.AxesSubplot at 0x7f378a13e048>"
      ]
     },
     "execution_count": 300,
     "metadata": {},
     "output_type": "execute_result"
    },
    {
     "data": {
      "image/png": "[encoded data removed]",
      "text/plain": [
       "<matplotlib.figure.Figure at 0x7f378a0ffbe0>"
      ]
     },
     "metadata": {},
     "output_type": "display_data"
    }
   ],
   "source": [
    "# Get correlations\n",
    "sns.set(rc={'figure.figsize':(10,10)},font_scale=1)\n",
    "sns.heatmap(model_df.corr(), annot=True)"
   ]
  },
  {
   "cell_type": "markdown",
   "metadata": {},
   "source": [
    "From histogram and correlation matrix, **songs**, **length** and **artists** are very similar. We will only include **length** in the model as it has the highest correlation with **cancelled**"
   ]
  },
  {
   "cell_type": "markdown",
   "metadata": {},
   "source": [
    "# Modeling"
   ]
  },
  {
   "cell_type": "code",
   "execution_count": 318,
   "metadata": {},
   "outputs": [
    {
     "data": {
      "text/html": [
       "<div>\n",
       "<style scoped>\n",
       "    .dataframe tbody tr th:only-of-type {\n",
       "        vertical-align: middle;\n",
       "    }\n",
       "\n",
       "    .dataframe tbody tr th {\n",
       "        vertical-align: top;\n",
       "    }\n",
       "\n",
       "    .dataframe thead th {\n",
       "        text-align: right;\n",
       "    }\n",
       "</style>\n",
       "<table border=\"1\" class=\"dataframe\">\n",
       "  <thead>\n",
       "    <tr style=\"text-align: right;\">\n",
       "      <th></th>\n",
       "      <th>userId</th>\n",
       "      <th>female</th>\n",
       "      <th>date_created</th>\n",
       "      <th>user_age</th>\n",
       "      <th>paid_user</th>\n",
       "      <th>downgraded</th>\n",
       "      <th>canceled</th>\n",
       "      <th>total_session</th>\n",
       "      <th>interactions</th>\n",
       "      <th>thumbs_down</th>\n",
       "      <th>songs</th>\n",
       "      <th>length</th>\n",
       "      <th>artists</th>\n",
       "      <th>session_gap</th>\n",
       "    </tr>\n",
       "  </thead>\n",
       "  <tbody>\n",
       "    <tr>\n",
       "      <th>2</th>\n",
       "      <td>125</td>\n",
       "      <td>0</td>\n",
       "      <td>2018-08-01</td>\n",
       "      <td>72</td>\n",
       "      <td>0</td>\n",
       "      <td>0</td>\n",
       "      <td>1</td>\n",
       "      <td>1</td>\n",
       "      <td>0.0</td>\n",
       "      <td>0.0</td>\n",
       "      <td>8.0</td>\n",
       "      <td>2089.11310</td>\n",
       "      <td>8.0</td>\n",
       "      <td>NaN</td>\n",
       "    </tr>\n",
       "    <tr>\n",
       "      <th>29</th>\n",
       "      <td>133</td>\n",
       "      <td>0</td>\n",
       "      <td>2018-09-05</td>\n",
       "      <td>40</td>\n",
       "      <td>0</td>\n",
       "      <td>0</td>\n",
       "      <td>0</td>\n",
       "      <td>1</td>\n",
       "      <td>6.0</td>\n",
       "      <td>2.0</td>\n",
       "      <td>32.0</td>\n",
       "      <td>8029.16428</td>\n",
       "      <td>32.0</td>\n",
       "      <td>NaN</td>\n",
       "    </tr>\n",
       "    <tr>\n",
       "      <th>56</th>\n",
       "      <td>300007</td>\n",
       "      <td>0</td>\n",
       "      <td>2018-09-23</td>\n",
       "      <td>12</td>\n",
       "      <td>1</td>\n",
       "      <td>0</td>\n",
       "      <td>1</td>\n",
       "      <td>1</td>\n",
       "      <td>20.0</td>\n",
       "      <td>11.0</td>\n",
       "      <td>111.0</td>\n",
       "      <td>28028.71048</td>\n",
       "      <td>107.0</td>\n",
       "      <td>NaN</td>\n",
       "    </tr>\n",
       "    <tr>\n",
       "      <th>60</th>\n",
       "      <td>100006</td>\n",
       "      <td>1</td>\n",
       "      <td>2018-09-26</td>\n",
       "      <td>9</td>\n",
       "      <td>0</td>\n",
       "      <td>0</td>\n",
       "      <td>1</td>\n",
       "      <td>1</td>\n",
       "      <td>9.0</td>\n",
       "      <td>2.0</td>\n",
       "      <td>26.0</td>\n",
       "      <td>5854.89105</td>\n",
       "      <td>26.0</td>\n",
       "      <td>NaN</td>\n",
       "    </tr>\n",
       "    <tr>\n",
       "      <th>97</th>\n",
       "      <td>19</td>\n",
       "      <td>1</td>\n",
       "      <td>2018-09-18</td>\n",
       "      <td>22</td>\n",
       "      <td>1</td>\n",
       "      <td>0</td>\n",
       "      <td>0</td>\n",
       "      <td>1</td>\n",
       "      <td>19.0</td>\n",
       "      <td>5.0</td>\n",
       "      <td>216.0</td>\n",
       "      <td>54480.93387</td>\n",
       "      <td>197.0</td>\n",
       "      <td>NaN</td>\n",
       "    </tr>\n",
       "    <tr>\n",
       "      <th>99</th>\n",
       "      <td>300024</td>\n",
       "      <td>1</td>\n",
       "      <td>2018-09-10</td>\n",
       "      <td>39</td>\n",
       "      <td>1</td>\n",
       "      <td>0</td>\n",
       "      <td>0</td>\n",
       "      <td>1</td>\n",
       "      <td>10.0</td>\n",
       "      <td>6.0</td>\n",
       "      <td>88.0</td>\n",
       "      <td>22698.64417</td>\n",
       "      <td>85.0</td>\n",
       "      <td>NaN</td>\n",
       "    </tr>\n",
       "    <tr>\n",
       "      <th>118</th>\n",
       "      <td>135</td>\n",
       "      <td>1</td>\n",
       "      <td>2018-07-24</td>\n",
       "      <td>72</td>\n",
       "      <td>0</td>\n",
       "      <td>0</td>\n",
       "      <td>0</td>\n",
       "      <td>1</td>\n",
       "      <td>0.0</td>\n",
       "      <td>0.0</td>\n",
       "      <td>6.0</td>\n",
       "      <td>1596.44461</td>\n",
       "      <td>6.0</td>\n",
       "      <td>NaN</td>\n",
       "    </tr>\n",
       "    <tr>\n",
       "      <th>119</th>\n",
       "      <td>156</td>\n",
       "      <td>0</td>\n",
       "      <td>2018-11-26</td>\n",
       "      <td>0</td>\n",
       "      <td>0</td>\n",
       "      <td>0</td>\n",
       "      <td>0</td>\n",
       "      <td>1</td>\n",
       "      <td>0.0</td>\n",
       "      <td>0.0</td>\n",
       "      <td>3.0</td>\n",
       "      <td>691.66884</td>\n",
       "      <td>3.0</td>\n",
       "      <td>NaN</td>\n",
       "    </tr>\n",
       "    <tr>\n",
       "      <th>121</th>\n",
       "      <td>100024</td>\n",
       "      <td>0</td>\n",
       "      <td>2018-09-07</td>\n",
       "      <td>27</td>\n",
       "      <td>0</td>\n",
       "      <td>0</td>\n",
       "      <td>1</td>\n",
       "      <td>1</td>\n",
       "      <td>5.0</td>\n",
       "      <td>5.0</td>\n",
       "      <td>22.0</td>\n",
       "      <td>5160.53207</td>\n",
       "      <td>22.0</td>\n",
       "      <td>NaN</td>\n",
       "    </tr>\n",
       "    <tr>\n",
       "      <th>135</th>\n",
       "      <td>100011</td>\n",
       "      <td>0</td>\n",
       "      <td>2018-09-26</td>\n",
       "      <td>5</td>\n",
       "      <td>0</td>\n",
       "      <td>0</td>\n",
       "      <td>1</td>\n",
       "      <td>1</td>\n",
       "      <td>3.0</td>\n",
       "      <td>0.0</td>\n",
       "      <td>11.0</td>\n",
       "      <td>2841.69950</td>\n",
       "      <td>11.0</td>\n",
       "      <td>NaN</td>\n",
       "    </tr>\n",
       "    <tr>\n",
       "      <th>146</th>\n",
       "      <td>300003</td>\n",
       "      <td>0</td>\n",
       "      <td>2018-07-05</td>\n",
       "      <td>99</td>\n",
       "      <td>0</td>\n",
       "      <td>0</td>\n",
       "      <td>0</td>\n",
       "      <td>1</td>\n",
       "      <td>3.0</td>\n",
       "      <td>2.0</td>\n",
       "      <td>27.0</td>\n",
       "      <td>6567.87674</td>\n",
       "      <td>26.0</td>\n",
       "      <td>NaN</td>\n",
       "    </tr>\n",
       "    <tr>\n",
       "      <th>185</th>\n",
       "      <td>100017</td>\n",
       "      <td>0</td>\n",
       "      <td>2018-08-02</td>\n",
       "      <td>79</td>\n",
       "      <td>0</td>\n",
       "      <td>0</td>\n",
       "      <td>1</td>\n",
       "      <td>1</td>\n",
       "      <td>4.0</td>\n",
       "      <td>2.0</td>\n",
       "      <td>52.0</td>\n",
       "      <td>12261.72340</td>\n",
       "      <td>51.0</td>\n",
       "      <td>NaN</td>\n",
       "    </tr>\n",
       "    <tr>\n",
       "      <th>187</th>\n",
       "      <td>63</td>\n",
       "      <td>1</td>\n",
       "      <td>2018-09-22</td>\n",
       "      <td>39</td>\n",
       "      <td>0</td>\n",
       "      <td>0</td>\n",
       "      <td>0</td>\n",
       "      <td>1</td>\n",
       "      <td>10.0</td>\n",
       "      <td>6.0</td>\n",
       "      <td>87.0</td>\n",
       "      <td>23151.84299</td>\n",
       "      <td>83.0</td>\n",
       "      <td>NaN</td>\n",
       "    </tr>\n",
       "    <tr>\n",
       "      <th>207</th>\n",
       "      <td>72</td>\n",
       "      <td>1</td>\n",
       "      <td>2018-07-05</td>\n",
       "      <td>124</td>\n",
       "      <td>0</td>\n",
       "      <td>0</td>\n",
       "      <td>0</td>\n",
       "      <td>1</td>\n",
       "      <td>13.0</td>\n",
       "      <td>6.0</td>\n",
       "      <td>85.0</td>\n",
       "      <td>19961.03902</td>\n",
       "      <td>82.0</td>\n",
       "      <td>NaN</td>\n",
       "    </tr>\n",
       "    <tr>\n",
       "      <th>210</th>\n",
       "      <td>151</td>\n",
       "      <td>0</td>\n",
       "      <td>2018-09-25</td>\n",
       "      <td>42</td>\n",
       "      <td>1</td>\n",
       "      <td>0</td>\n",
       "      <td>0</td>\n",
       "      <td>1</td>\n",
       "      <td>10.0</td>\n",
       "      <td>4.0</td>\n",
       "      <td>138.0</td>\n",
       "      <td>32481.13906</td>\n",
       "      <td>132.0</td>\n",
       "      <td>NaN</td>\n",
       "    </tr>\n",
       "  </tbody>\n",
       "</table>\n",
       "</div>"
      ],
      "text/plain": [
       "     userId  female date_created  user_age  paid_user  downgraded  canceled  \\\n",
       "2       125       0   2018-08-01        72          0           0         1   \n",
       "29      133       0   2018-09-05        40          0           0         0   \n",
       "56   300007       0   2018-09-23        12          1           0         1   \n",
       "60   100006       1   2018-09-26         9          0           0         1   \n",
       "97       19       1   2018-09-18        22          1           0         0   \n",
       "99   300024       1   2018-09-10        39          1           0         0   \n",
       "118     135       1   2018-07-24        72          0           0         0   \n",
       "119     156       0   2018-11-26         0          0           0         0   \n",
       "121  100024       0   2018-09-07        27          0           0         1   \n",
       "135  100011       0   2018-09-26         5          0           0         1   \n",
       "146  300003       0   2018-07-05        99          0           0         0   \n",
       "185  100017       0   2018-08-02        79          0           0         1   \n",
       "187      63       1   2018-09-22        39          0           0         0   \n",
       "207      72       1   2018-07-05       124          0           0         0   \n",
       "210     151       0   2018-09-25        42          1           0         0   \n",
       "\n",
       "     total_session  interactions  thumbs_down  songs       length  artists  \\\n",
       "2                1           0.0          0.0    8.0   2089.11310      8.0   \n",
       "29               1           6.0          2.0   32.0   8029.16428     32.0   \n",
       "56               1          20.0         11.0  111.0  28028.71048    107.0   \n",
       "60               1           9.0          2.0   26.0   5854.89105     26.0   \n",
       "97               1          19.0          5.0  216.0  54480.93387    197.0   \n",
       "99               1          10.0          6.0   88.0  22698.64417     85.0   \n",
       "118              1           0.0          0.0    6.0   1596.44461      6.0   \n",
       "119              1           0.0          0.0    3.0    691.66884      3.0   \n",
       "121              1           5.0          5.0   22.0   5160.53207     22.0   \n",
       "135              1           3.0          0.0   11.0   2841.69950     11.0   \n",
       "146              1           3.0          2.0   27.0   6567.87674     26.0   \n",
       "185              1           4.0          2.0   52.0  12261.72340     51.0   \n",
       "187              1          10.0          6.0   87.0  23151.84299     83.0   \n",
       "207              1          13.0          6.0   85.0  19961.03902     82.0   \n",
       "210              1          10.0          4.0  138.0  32481.13906    132.0   \n",
       "\n",
       "     session_gap  \n",
       "2            NaN  \n",
       "29           NaN  \n",
       "56           NaN  \n",
       "60           NaN  \n",
       "97           NaN  \n",
       "99           NaN  \n",
       "118          NaN  \n",
       "119          NaN  \n",
       "121          NaN  \n",
       "135          NaN  \n",
       "146          NaN  \n",
       "185          NaN  \n",
       "187          NaN  \n",
       "207          NaN  \n",
       "210          NaN  "
      ]
     },
     "execution_count": 318,
     "metadata": {},
     "output_type": "execute_result"
    }
   ],
   "source": [
    "# Inspect aggregated data\n",
    "model_df.loc[model_df.isnull().sum(axis = 1) > 0]"
   ]
  },
  {
   "cell_type": "markdown",
   "metadata": {},
   "source": [
    "Total session = 1： Either the user is new or they have been dormant since registration. Although the secend type is very likely 'churned', it is different from the churn we are trying to predict here (people who used to be an active user but decides to leave). Therefore we will exclude them from the prediction"
   ]
  },
  {
   "cell_type": "code",
   "execution_count": 304,
   "metadata": {},
   "outputs": [],
   "source": [
    "# Assemble num features\n",
    "assembler = VectorAssembler(inputCols=['female','user_age','paid_user',\\\n",
    "                                       'downgraded','total_session','interactions',\\\n",
    "                                      'thumbs_down','length','session_gap'],\\\n",
    "                            outputCol='NumFeatures',handleInvalid = 'skip')\n",
    "data = assembler.transform(output)"
   ]
  },
  {
   "cell_type": "code",
   "execution_count": 305,
   "metadata": {},
   "outputs": [],
   "source": [
    "# Use 'canceled' as model prediction label\n",
    "data = data.withColumnRenamed('canceled','label')"
   ]
  },
  {
   "cell_type": "code",
   "execution_count": 52,
   "metadata": {
    "tags": []
   },
   "outputs": [],
   "source": [
    "# for i in ['female','user_age','paid_user',\\\n",
    "#                                        'downgraded','total_session','interactions',\\\n",
    "#                                       'thumbs_down','songs','length','artists','session_gap']:\n",
    "#     print(output.where(col(i).isNull()).count())"
   ]
  },
  {
   "cell_type": "code",
   "execution_count": 319,
   "metadata": {},
   "outputs": [],
   "source": [
    "test, validation = data.randomSplit([0.8, 0.2], seed=42)"
   ]
  },
  {
   "cell_type": "code",
   "execution_count": 320,
   "metadata": {},
   "outputs": [],
   "source": [
    "standardscaler = StandardScaler(inputCol=\"NumFeatures\", outputCol=\"features\", withMean=True, withStd=True)\n",
    "\n",
    "lr = LogisticRegression(maxIter=10, regParam=0.0)\n",
    "gbt = GBTClassifier(maxIter=5, maxDepth=2)\n",
    "lsvc = LinearSVC(maxIter=10, regParam=0.1)\n",
    "rf = RandomForestClassifier()"
   ]
  },
  {
   "cell_type": "code",
   "execution_count": 321,
   "metadata": {},
   "outputs": [],
   "source": [
    "def fit_model(model, paramGrid = None):\n",
    "    pipeline = Pipeline(stages=[standardscaler, model])\n",
    "    \n",
    "    if paramGrid != None:\n",
    "        crossval = CrossValidator(estimator=pipeline,\n",
    "                          estimatorParamMaps=paramGrid,\n",
    "                          evaluator=MulticlassClassificationEvaluator(),\n",
    "                          numFolds=3)\n",
    "        fitmodel = crossval.fit(test)\n",
    "    else:\n",
    "        fitmodel = pipeline.fit(test)\n",
    "    \n",
    "    results = fitmodel.transform(validation)\n",
    "    \n",
    "    return fitmodel, results"
   ]
  },
  {
   "cell_type": "code",
   "execution_count": 322,
   "metadata": {},
   "outputs": [],
   "source": [
    "def val_evaluation(results):\n",
    "    predictionAndLabels = results.select(['prediction', 'label']\\\n",
    "                                      ).withColumn('label',col('label').cast(DoubleType())).rdd\n",
    "\n",
    "    metrics = MulticlassMetrics(predictionAndLabels)\n",
    "    cm=metrics.confusionMatrix().toArray()\n",
    "    \n",
    "    accuracy=(cm[0][0]+cm[1][1])/cm.sum()\n",
    "    precision=(cm[1][1])/(cm[0][1]+cm[1][1])\n",
    "    recall=(cm[1][1])/(cm[1][0]+cm[1][1])\n",
    "    return(round(accuracy,2),round(precision,2),round(recall,2))"
   ]
  },
  {
   "cell_type": "code",
   "execution_count": 323,
   "metadata": {},
   "outputs": [],
   "source": [
    "lrmodel, lrresults = fit_model(lr)"
   ]
  },
  {
   "cell_type": "code",
   "execution_count": 324,
   "metadata": {},
   "outputs": [],
   "source": [
    "rfmodel, rfresults = fit_model(rf)"
   ]
  },
  {
   "cell_type": "code",
   "execution_count": 325,
   "metadata": {},
   "outputs": [],
   "source": [
    "lsvcmodel, lsvcresults = fit_model(lsvc)"
   ]
  },
  {
   "cell_type": "code",
   "execution_count": 326,
   "metadata": {},
   "outputs": [],
   "source": [
    "gbtmodel, gbtresults = fit_model(gbt)"
   ]
  },
  {
   "cell_type": "code",
   "execution_count": 327,
   "metadata": {},
   "outputs": [
    {
     "name": "stdout",
     "output_type": "stream",
     "text": [
      "LogisticRegression: accuracy,precision,recall (0.88, 1.0, 0.5)\n",
      "RandomForest: accuracy,precision,recall (0.88, 1.0, 0.5)\n"
     ]
    },
    {
     "name": "stderr",
     "output_type": "stream",
     "text": [
      "/opt/conda/lib/python3.6/site-packages/ipykernel_launcher.py:8: RuntimeWarning: invalid value encountered in double_scalars\n",
      "  \n"
     ]
    },
    {
     "name": "stdout",
     "output_type": "stream",
     "text": [
      "LSVC: accuracy,precision,recall (0.76000000000000001, nan, 0.0)\n",
      "GBT: accuracy,precision,recall (0.84999999999999998, 1.0, 0.38)\n"
     ]
    }
   ],
   "source": [
    "print(\"LogisticRegression: accuracy,precision,recall\", val_evaluation(lrresults))\n",
    "print(\"RandomForest: accuracy,precision,recall\", val_evaluation(rdresults))\n",
    "print(\"LSVC: accuracy,precision,recall\", val_evaluation(lsvcresults))\n",
    "print(\"GBT: accuracy,precision,recall\", val_evaluation(gbtresults))"
   ]
  },
  {
   "cell_type": "code",
   "execution_count": 328,
   "metadata": {},
   "outputs": [
    {
     "data": {
      "text/plain": [
       "SparseVector(9, {0: 0.0184, 1: 0.3001, 2: 0.018, 3: 0.0123, 4: 0.1294, 5: 0.0782, 6: 0.119, 7: 0.0732, 8: 0.2515})"
      ]
     },
     "execution_count": 328,
     "metadata": {},
     "output_type": "execute_result"
    }
   ],
   "source": [
    "rfmodel.stages[-1].featureImportances"
   ]
  },
  {
   "cell_type": "code",
   "execution_count": null,
   "metadata": {},
   "outputs": [],
   "source": []
  },
  {
   "cell_type": "code",
   "execution_count": 329,
   "metadata": {},
   "outputs": [],
   "source": [
    "paramGrid = ParamGridBuilder() \\\n",
    "    .addGrid(lr.regParam,[0.0, 0.1])\\\n",
    "    .addGrid(standardscaler.withStd,[True, False])\\\n",
    "    .build()"
   ]
  },
  {
   "cell_type": "code",
   "execution_count": 330,
   "metadata": {},
   "outputs": [],
   "source": [
    "lrbest, lrresults = fit_model(lr, paramGrid = paramGrid)"
   ]
  },
  {
   "cell_type": "code",
   "execution_count": 334,
   "metadata": {
    "tags": []
   },
   "outputs": [
    {
     "name": "stdout",
     "output_type": "stream",
     "text": [
      "{Param(parent='LogisticRegression_ed0d8ca19f83', name='regParam', doc='regularization parameter (>= 0).'): 0.0, Param(parent='StandardScaler_69688664895a', name='withStd', doc='Scale to unit standard deviation'): True}\n"
     ]
    }
   ],
   "source": [
    "bp_index = lrbest.avgMetrics.index(np.max(lrbest.avgMetrics))\n",
    "bp = paramGrid[bp_index]\n",
    "print(bp)"
   ]
  }
 ],
 "metadata": {
  "kernelspec": {
   "display_name": "Python 3",
   "language": "python",
   "name": "python3"
  },
  "language_info": {
   "codemirror_mode": {
    "name": "ipython",
    "version": 3
   },
   "file_extension": ".py",
   "mimetype": "text/x-python",
   "name": "python",
   "nbconvert_exporter": "python",
   "pygments_lexer": "ipython3",
   "version": "3.6.3"
  }
 },
 "nbformat": 4,
 "nbformat_minor": 2
}
