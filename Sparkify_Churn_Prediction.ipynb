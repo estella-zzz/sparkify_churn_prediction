{
 "cells": [
  {
   "cell_type": "markdown",
   "metadata": {},
   "source": [
    "# Sparkify Project Workspace\n",
    "This workspace contains a tiny subset (128MB) of the full dataset available (12GB). Feel free to use this workspace to build your project, or to explore a smaller subset with Spark before deploying your cluster on the cloud. Instructions for setting up your Spark cluster is included in the last lesson of the Extracurricular Spark Course content.\n",
    "\n",
    "You can follow the steps below to guide your data analysis and model building portion of this project."
   ]
  },
  {
   "cell_type": "code",
   "execution_count": 48,
   "metadata": {},
   "outputs": [],
   "source": [
    "# import libraries\n",
    "from pyspark.sql import SparkSession\n",
    "from pyspark.sql.functions import avg, col, concat, desc, explode, lit, min, max, split, udf, countDistinct, sum\n",
    "import pyspark.sql.functions as F\n",
    "from pyspark.sql.types import IntegerType\n",
    "\n",
    "from pyspark.ml import Pipeline\n",
    "from pyspark.ml.classification import LogisticRegression\n",
    "from pyspark.ml.evaluation import MulticlassClassificationEvaluator\n",
    "from pyspark.ml.feature import CountVectorizer, IDF, Normalizer, PCA, RegexTokenizer, StandardScaler, StopWordsRemover, StringIndexer, VectorAssembler\n",
    "from pyspark.ml.regression import LinearRegression\n",
    "from pyspark.ml.tuning import CrossValidator, ParamGridBuilder\n"
   ]
  },
  {
   "cell_type": "code",
   "execution_count": 2,
   "metadata": {},
   "outputs": [],
   "source": [
    "# create a Spark session\n",
    "spark = SparkSession.builder \\\n",
    "    .master(\"local\") \\\n",
    "    .appName(\"Sparkify\") \\\n",
    "    .getOrCreate()"
   ]
  },
  {
   "cell_type": "markdown",
   "metadata": {},
   "source": [
    "# Load and Clean Dataset\n",
    "In this workspace, the mini-dataset file is `mini_sparkify_event_data.json`. Load and clean the dataset, checking for invalid or missing data - for example, records without userids or sessionids. "
   ]
  },
  {
   "cell_type": "code",
   "execution_count": 3,
   "metadata": {},
   "outputs": [],
   "source": [
    "sparkify_data = 'mini_sparkify_event_data.json'\n",
    "df = spark.read.json(sparkify_data)"
   ]
  },
  {
   "cell_type": "markdown",
   "metadata": {},
   "source": [
    "# Exploratory Data Analysis\n",
    "When you're working with the full dataset, perform EDA by loading a small subset of the data and doing basic manipulations within Spark. In this workspace, you are already provided a small subset of data you can explore.\n",
    "\n",
    "### Define Churn\n",
    "\n",
    "Once you've done some preliminary analysis, create a column `Churn` to use as the label for your model. I suggest using the `Cancellation Confirmation` events to define your churn, which happen for both paid and free users. As a bonus task, you can also look into the `Downgrade` events.\n",
    "\n",
    "### Explore Data\n",
    "Once you've defined churn, perform some exploratory data analysis to observe the behavior for users who stayed vs users who churned. You can start by exploring aggregates on these two groups of users, observing how much of a specific action they experienced per a certain time unit or number of songs played."
   ]
  },
  {
   "cell_type": "code",
   "execution_count": 4,
   "metadata": {},
   "outputs": [
    {
     "name": "stdout",
     "output_type": "stream",
     "text": [
      "root\n",
      " |-- artist: string (nullable = true)\n",
      " |-- auth: string (nullable = true)\n",
      " |-- firstName: string (nullable = true)\n",
      " |-- gender: string (nullable = true)\n",
      " |-- itemInSession: long (nullable = true)\n",
      " |-- lastName: string (nullable = true)\n",
      " |-- length: double (nullable = true)\n",
      " |-- level: string (nullable = true)\n",
      " |-- location: string (nullable = true)\n",
      " |-- method: string (nullable = true)\n",
      " |-- page: string (nullable = true)\n",
      " |-- registration: long (nullable = true)\n",
      " |-- sessionId: long (nullable = true)\n",
      " |-- song: string (nullable = true)\n",
      " |-- status: long (nullable = true)\n",
      " |-- ts: long (nullable = true)\n",
      " |-- userAgent: string (nullable = true)\n",
      " |-- userId: string (nullable = true)\n",
      "\n"
     ]
    }
   ],
   "source": [
    "df.printSchema()"
   ]
  },
  {
   "cell_type": "code",
   "execution_count": 5,
   "metadata": {},
   "outputs": [
    {
     "data": {
      "text/plain": [
       "286500"
      ]
     },
     "execution_count": 5,
     "metadata": {},
     "output_type": "execute_result"
    }
   ],
   "source": [
    "# Total sessions\n",
    "df.count()"
   ]
  },
  {
   "cell_type": "code",
   "execution_count": 17,
   "metadata": {},
   "outputs": [
    {
     "name": "stdout",
     "output_type": "stream",
     "text": [
      "+----------------------+\n",
      "|count(DISTINCT userId)|\n",
      "+----------------------+\n",
      "|                   226|\n",
      "+----------------------+\n",
      "\n"
     ]
    }
   ],
   "source": [
    "# Count User\n",
    "df.agg(countDistinct('userId')).show()"
   ]
  },
  {
   "cell_type": "code",
   "execution_count": 62,
   "metadata": {},
   "outputs": [
    {
     "data": {
      "text/plain": [
       "8346"
      ]
     },
     "execution_count": 62,
     "metadata": {},
     "output_type": "execute_result"
    }
   ],
   "source": [
    "df.where(df.userId == '').count()"
   ]
  },
  {
   "cell_type": "code",
   "execution_count": 50,
   "metadata": {},
   "outputs": [
    {
     "name": "stdout",
     "output_type": "stream",
     "text": [
      "+----------+----------------------+\n",
      "|      auth|count(DISTINCT userId)|\n",
      "+----------+----------------------+\n",
      "|Logged Out|                     1|\n",
      "| Cancelled|                    52|\n",
      "|     Guest|                     1|\n",
      "| Logged In|                   225|\n",
      "+----------+----------------------+\n",
      "\n"
     ]
    }
   ],
   "source": [
    "df.groupby('auth').agg(F.countDistinct('userId')).show()"
   ]
  },
  {
   "cell_type": "code",
   "execution_count": 51,
   "metadata": {},
   "outputs": [
    {
     "data": {
      "text/plain": [
       "[Row(artist=None, auth='Cancelled', firstName='Adriel', gender='M', itemInSession=104, lastName='Mendoza', length=None, level='paid', location='Kansas City, MO-KS', method='GET', page='Cancellation Confirmation', registration=1535623466000, sessionId=514, song=None, status=200, ts=1538943990000, userAgent='\"Mozilla/5.0 (Macintosh; Intel Mac OS X 10_9_4) AppleWebKit/537.77.4 (KHTML, like Gecko) Version/7.0.5 Safari/537.77.4\"', userId='18'),\n",
       " Row(artist=None, auth='Cancelled', firstName='Diego', gender='M', itemInSession=56, lastName='Mckee', length=None, level='paid', location='Phoenix-Mesa-Scottsdale, AZ', method='GET', page='Cancellation Confirmation', registration=1537167593000, sessionId=540, song=None, status=200, ts=1539033046000, userAgent='\"Mozilla/5.0 (iPhone; CPU iPhone OS 7_1_2 like Mac OS X) AppleWebKit/537.51.2 (KHTML, like Gecko) Version/7.0 Mobile/11D257 Safari/9537.53\"', userId='32'),\n",
       " Row(artist=None, auth='Cancelled', firstName='Mason', gender='M', itemInSession=10, lastName='Hart', length=None, level='free', location='Corpus Christi, TX', method='GET', page='Cancellation Confirmation', registration=1533157139000, sessionId=174, song=None, status=200, ts=1539318918000, userAgent='\"Mozilla/5.0 (Macintosh; Intel Mac OS X 10_9_4) AppleWebKit/537.36 (KHTML, like Gecko) Chrome/36.0.1985.125 Safari/537.36\"', userId='125'),\n",
       " Row(artist=None, auth='Cancelled', firstName='Alexander', gender='M', itemInSession=332, lastName='Garcia', length=None, level='paid', location='Indianapolis-Carmel-Anderson, IN', method='GET', page='Cancellation Confirmation', registration=1536817381000, sessionId=508, song=None, status=200, ts=1539375441000, userAgent='Mozilla/5.0 (Windows NT 6.1; WOW64; rv:31.0) Gecko/20100101 Firefox/31.0', userId='105'),\n",
       " Row(artist=None, auth='Cancelled', firstName='Kayla', gender='F', itemInSession=273, lastName='Johnson', length=None, level='paid', location='Philadelphia-Camden-Wilmington, PA-NJ-DE-MD', method='GET', page='Cancellation Confirmation', registration=1538333829000, sessionId=797, song=None, status=200, ts=1539465584000, userAgent='Mozilla/5.0 (Windows NT 6.1; WOW64; rv:24.0) Gecko/20100101 Firefox/24.0', userId='17')]"
      ]
     },
     "execution_count": 51,
     "metadata": {},
     "output_type": "execute_result"
    }
   ],
   "source": [
    "df.filter(df.auth == 'Cancelled').take(5)"
   ]
  },
  {
   "cell_type": "code",
   "execution_count": 65,
   "metadata": {},
   "outputs": [],
   "source": [
    "#Downgrade, Submit Downgrade\n",
    "pages = df.groupby('page','method').count().sort('method')\n",
    "pages_df = pages.toPandas()"
   ]
  },
  {
   "cell_type": "code",
   "execution_count": 68,
   "metadata": {},
   "outputs": [
    {
     "ename": "ModuleNotFoundError",
     "evalue": "No module named 'plotly.express'",
     "output_type": "error",
     "traceback": [
      "\u001b[0;31m---------------------------------------------------------------------------\u001b[0m",
      "\u001b[0;31mModuleNotFoundError\u001b[0m                       Traceback (most recent call last)",
      "\u001b[0;32m<ipython-input-68-3315258b89bb>\u001b[0m in \u001b[0;36m<module>\u001b[0;34m()\u001b[0m\n\u001b[1;32m      1\u001b[0m \u001b[0;31m# import plotly.graph_objects as go\u001b[0m\u001b[0;34m\u001b[0m\u001b[0;34m\u001b[0m\u001b[0m\n\u001b[0;32m----> 2\u001b[0;31m \u001b[0;32mimport\u001b[0m \u001b[0mplotly\u001b[0m\u001b[0;34m.\u001b[0m\u001b[0mexpress\u001b[0m \u001b[0;32mas\u001b[0m \u001b[0mpx\u001b[0m\u001b[0;34m\u001b[0m\u001b[0m\n\u001b[0m\u001b[1;32m      3\u001b[0m \u001b[0mpages_df_plt\u001b[0m \u001b[0;34m=\u001b[0m \u001b[0mpages_df\u001b[0m\u001b[0;34m.\u001b[0m\u001b[0mloc\u001b[0m\u001b[0;34m[\u001b[0m\u001b[0mpages_df\u001b[0m\u001b[0;34m[\u001b[0m\u001b[0;34m'method'\u001b[0m\u001b[0;34m]\u001b[0m \u001b[0;34m==\u001b[0m \u001b[0;34m'PUT'\u001b[0m\u001b[0;34m]\u001b[0m\u001b[0;34m\u001b[0m\u001b[0m\n",
      "\u001b[0;31mModuleNotFoundError\u001b[0m: No module named 'plotly.express'"
     ]
    }
   ],
   "source": [
    "# import plotly.graph_objects as go\n",
    "import plotly.express as px\n",
    "pages_df_plt = pages_df.loc[pages_df['method'] == 'PUT']"
   ]
  },
  {
   "cell_type": "code",
   "execution_count": null,
   "metadata": {},
   "outputs": [],
   "source": []
  },
  {
   "cell_type": "code",
   "execution_count": 8,
   "metadata": {},
   "outputs": [
    {
     "name": "stdout",
     "output_type": "stream",
     "text": [
      "+------+------+\n",
      "|status| count|\n",
      "+------+------+\n",
      "|   307| 26430|\n",
      "|   404|   258|\n",
      "|   200|259812|\n",
      "+------+------+\n",
      "\n"
     ]
    }
   ],
   "source": [
    "df.groupby('status').count().show()"
   ]
  },
  {
   "cell_type": "code",
   "execution_count": 44,
   "metadata": {},
   "outputs": [
    {
     "data": {
      "text/plain": [
       "Row(userAgent='Mozilla/5.0 (Windows NT 6.1; WOW64; rv:31.0) Gecko/20100101 Firefox/31.0')"
      ]
     },
     "execution_count": 44,
     "metadata": {},
     "output_type": "execute_result"
    }
   ],
   "source": [
    "df.select('userAgent').head()"
   ]
  },
  {
   "cell_type": "code",
   "execution_count": 10,
   "metadata": {},
   "outputs": [
    {
     "name": "stdout",
     "output_type": "stream",
     "text": [
      "+--------------------+---------+------+---------------+-------------+---------------+\n",
      "|              artist|     auth|method|       location| registration|           page|\n",
      "+--------------------+---------+------+---------------+-------------+---------------+\n",
      "|      Martha Tilston|Logged In|   PUT|Bakersfield, CA|1538173362000|       NextSong|\n",
      "|        Adam Lambert|Logged In|   PUT|Bakersfield, CA|1538173362000|       NextSong|\n",
      "|           Daft Punk|Logged In|   PUT|Bakersfield, CA|1538173362000|       NextSong|\n",
      "|        Starflyer 59|Logged In|   PUT|Bakersfield, CA|1538173362000|       NextSong|\n",
      "|                null|Logged In|   PUT|Bakersfield, CA|1538173362000|Add to Playlist|\n",
      "|            Frumpies|Logged In|   PUT|Bakersfield, CA|1538173362000|       NextSong|\n",
      "|Edward Sharpe & T...|Logged In|   PUT|Bakersfield, CA|1538173362000|       NextSong|\n",
      "|         Stan Mosley|Logged In|   PUT|Bakersfield, CA|1538173362000|       NextSong|\n",
      "|             Orishas|Logged In|   PUT|Bakersfield, CA|1538173362000|       NextSong|\n",
      "|            Downhere|Logged In|   PUT|Bakersfield, CA|1538173362000|       NextSong|\n",
      "|             Skillet|Logged In|   PUT|Bakersfield, CA|1538173362000|       NextSong|\n",
      "|Florence + The Ma...|Logged In|   PUT|Bakersfield, CA|1538173362000|       NextSong|\n",
      "|          Nick Drake|Logged In|   PUT|Bakersfield, CA|1538173362000|       NextSong|\n",
      "|Lambert_ Hendrick...|Logged In|   PUT|Bakersfield, CA|1538173362000|       NextSong|\n",
      "|          Kanye West|Logged In|   PUT|Bakersfield, CA|1538173362000|       NextSong|\n",
      "|  Redman / Ready Roc|Logged In|   PUT|Bakersfield, CA|1538173362000|       NextSong|\n",
      "|The All-American ...|Logged In|   PUT|Bakersfield, CA|1538173362000|       NextSong|\n",
      "|       Kings Of Leon|Logged In|   PUT|Bakersfield, CA|1538173362000|       NextSong|\n",
      "|            BjÃÂ¶rk|Logged In|   PUT|Bakersfield, CA|1538173362000|       NextSong|\n",
      "|         The Prodigy|Logged In|   PUT|Bakersfield, CA|1538173362000|       NextSong|\n",
      "+--------------------+---------+------+---------------+-------------+---------------+\n",
      "only showing top 20 rows\n",
      "\n"
     ]
    }
   ],
   "source": [
    "df.filter(df.userId == '30').select(['artist','auth','method','location','registration','page']).show()"
   ]
  },
  {
   "cell_type": "code",
   "execution_count": 45,
   "metadata": {},
   "outputs": [
    {
     "name": "stdout",
     "output_type": "stream",
     "text": [
      "+-----+---------+----------------+---------+-------------+------------------+\n",
      "|level|sessionId|            page|     auth|           ts|            length|\n",
      "+-----+---------+----------------+---------+-------------+------------------+\n",
      "| free|     2281|            Home|Logged In|1543548083000|              null|\n",
      "| free|     2155|      Add Friend|Logged In|1543120417000|              null|\n",
      "| free|     2155|     Thumbs Down|Logged In|1543117205000|              null|\n",
      "| free|     2155|            Home|Logged In|1543114842000|              null|\n",
      "| free|     2155|          Logout|Logged In|1543114535000|              null|\n",
      "| free|     2155|     Roll Advert|Logged In|1543114106000|              null|\n",
      "| free|     2155|       Thumbs Up|Logged In|1543111791000|              null|\n",
      "| free|     2155|           About|Logged In|1543110822000|              null|\n",
      "| free|     2155| Add to Playlist|Logged In|1543109614000|              null|\n",
      "| free|     2155|        NextSong|Logged In|1543109551000|11182.815799999997|\n",
      "| free|     2094|        NextSong|Logged In|1542799890000|         563.35582|\n",
      "| free|     2094|            Home|Logged In|1542799886000|              null|\n",
      "| free|     2041|     Roll Advert|Logged In|1542672916000|              null|\n",
      "| free|     2041|        NextSong|Logged In|1542671679000|        1865.66169|\n",
      "| free|     2041|            Home|Logged In|1542671520000|              null|\n",
      "| paid|     2041|Submit Downgrade|Logged In|1542671497000|              null|\n",
      "| paid|     2041|      Add Friend|Logged In|1542669594000|              null|\n",
      "| paid|     2041|            Home|Logged In|1542665777000|              null|\n",
      "| paid|     2041|            Help|Logged In|1542663511000|              null|\n",
      "| paid|     2041|     Thumbs Down|Logged In|1542658874000|              null|\n",
      "| paid|     2041|       Thumbs Up|Logged In|1542655091000|              null|\n",
      "| paid|     2041|       Downgrade|Logged In|1542654089000|              null|\n",
      "| paid|     2041| Add to Playlist|Logged In|1542653604000|              null|\n",
      "| paid|     2041|        Settings|Logged In|1542653115000|              null|\n",
      "| paid|     2041|        NextSong|Logged In|1542651137000|       20587.69085|\n",
      "| paid|     1881|           About|Logged In|1542504324000|              null|\n",
      "| paid|     1881|     Thumbs Down|Logged In|1542502295000|              null|\n",
      "| paid|     1881|            Home|Logged In|1542497345000|              null|\n",
      "| paid|     1881|       Thumbs Up|Logged In|1542493657000|              null|\n",
      "| paid|     1881|        NextSong|Logged In|1542491397000|13187.164290000002|\n",
      "| paid|     1536|   Save Settings|Logged In|1542086739000|              null|\n",
      "| paid|     1536|        Settings|Logged In|1542086738000|              null|\n",
      "| paid|     1536|       Downgrade|Logged In|1542082310000|              null|\n",
      "| paid|     1536|           Error|Logged In|1542074331000|              null|\n",
      "| paid|     1536|     Thumbs Down|Logged In|1542071954000|              null|\n",
      "| paid|     1536|            Help|Logged In|1542069857000|              null|\n",
      "| paid|     1536| Add to Playlist|Logged In|1542068154000|              null|\n",
      "| paid|     1536|      Add Friend|Logged In|1542065920000|              null|\n",
      "| paid|     1536|       Thumbs Up|Logged In|1542064069000|              null|\n",
      "| paid|     1536|        NextSong|Logged In|1542060955000|25749.815960000004|\n",
      "| paid|     1536|            Home|Logged In|1542060954000|              null|\n",
      "| paid|     1325|      Add Friend|Logged In|1541129714000|              null|\n",
      "| paid|     1325|          Logout|Logged In|1541126987000|              null|\n",
      "| paid|     1325|            Help|Logged In|1541113176000|              null|\n",
      "| paid|     1325|     Thumbs Down|Logged In|1541113069000|              null|\n",
      "| paid|     1325|       Downgrade|Logged In|1541102571000|              null|\n",
      "| paid|     1325| Add to Playlist|Logged In|1541100252000|              null|\n",
      "| paid|     1325|       Thumbs Up|Logged In|1541097775000|              null|\n",
      "| paid|     1325|        NextSong|Logged In|1541096859000| 37274.60396999998|\n",
      "| paid|     1325|            Home|Logged In|1541096773000|              null|\n",
      "+-----+---------+----------------+---------+-------------+------------------+\n",
      "only showing top 50 rows\n",
      "\n"
     ]
    }
   ],
   "source": [
    "# Downgrade Sample\n",
    "df.filter(col('userId') == '131').groupby(['level','sessionId','page']\\\n",
    "                                         ).agg(min(col('ts')).alias('ts'),\\\n",
    "                                              sum(col('length')).alias('length')).sort(col('ts').desc()).show(50)"
   ]
  },
  {
   "cell_type": "code",
   "execution_count": null,
   "metadata": {},
   "outputs": [],
   "source": [
    "# define churn\n",
    "# Downgrade: Submit Downgrade\n",
    "# Cancel: "
   ]
  },
  {
   "cell_type": "markdown",
   "metadata": {},
   "source": [
    "# Feature Engineering\n",
    "Once you've familiarized yourself with the data, build out the features you find promising to train your model on. To work with the full dataset, you can follow the following steps.\n",
    "- Write a script to extract the necessary features from the smaller subset of data\n",
    "- Ensure that your script is scalable, using the best practices discussed in Lesson 3\n",
    "- Try your script on the full data set, debugging your script if necessary\n",
    "\n",
    "If you are working in the classroom workspace, you can just extract features based on the small subset of data contained here. Be sure to transfer over this work to the larger dataset when you work on your Spark cluster."
   ]
  },
  {
   "cell_type": "code",
   "execution_count": null,
   "metadata": {},
   "outputs": [],
   "source": []
  },
  {
   "cell_type": "markdown",
   "metadata": {},
   "source": [
    "# Modeling\n",
    "Split the full dataset into train, test, and validation sets. Test out several of the machine learning methods you learned. Evaluate the accuracy of the various models, tuning parameters as necessary. Determine your winning model based on test accuracy and report results on the validation set. Since the churned users are a fairly small subset, I suggest using F1 score as the metric to optimize."
   ]
  },
  {
   "cell_type": "code",
   "execution_count": null,
   "metadata": {},
   "outputs": [],
   "source": []
  },
  {
   "cell_type": "markdown",
   "metadata": {},
   "source": [
    "# Final Steps\n",
    "Clean up your code, adding comments and renaming variables to make the code easier to read and maintain. Refer to the Spark Project Overview page and Data Scientist Capstone Project Rubric to make sure you are including all components of the capstone project and meet all expectations. Remember, this includes thorough documentation in a README file in a Github repository, as well as a web app or blog post."
   ]
  },
  {
   "cell_type": "code",
   "execution_count": null,
   "metadata": {},
   "outputs": [],
   "source": []
  }
 ],
 "metadata": {
  "kernelspec": {
   "display_name": "Python 3",
   "language": "python",
   "name": "python3"
  },
  "language_info": {
   "codemirror_mode": {
    "name": "ipython",
    "version": 3
   },
   "file_extension": ".py",
   "mimetype": "text/x-python",
   "name": "python",
   "nbconvert_exporter": "python",
   "pygments_lexer": "ipython3",
   "version": "3.6.3"
  }
 },
 "nbformat": 4,
 "nbformat_minor": 2
}
