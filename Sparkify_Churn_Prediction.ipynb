{
 "cells": [
  {
   "cell_type": "markdown",
   "metadata": {},
   "source": [
    "# Sparkify Project Workspace\n",
    "This workspace contains a tiny subset (128MB) of the full dataset available (12GB). Feel free to use this workspace to build your project, or to explore a smaller subset with Spark before deploying your cluster on the cloud. Instructions for setting up your Spark cluster is included in the last lesson of the Extracurricular Spark Course content.\n",
    "\n",
    "You can follow the steps below to guide your data analysis and model building portion of this project."
   ]
  },
  {
   "cell_type": "code",
   "execution_count": 87,
   "metadata": {},
   "outputs": [],
   "source": [
    "# import libraries\n",
    "from pyspark.sql import SparkSession\n",
    "from pyspark.sql.functions import avg, col, concat, desc, explode, lit, min, max, split, udf, countDistinct, sum\n",
    "import pyspark.sql.functions as F\n",
    "from pyspark.sql.types import IntegerType\n",
    "from pyspark.sql import Window\n",
    "\n",
    "from pyspark.ml import Pipeline\n",
    "from pyspark.ml.classification import LogisticRegression\n",
    "from pyspark.ml.evaluation import MulticlassClassificationEvaluator\n",
    "from pyspark.ml.feature import CountVectorizer, IDF, Normalizer, PCA, RegexTokenizer, StandardScaler, StopWordsRemover, StringIndexer, VectorAssembler\n",
    "from pyspark.ml.regression import LinearRegression\n",
    "from pyspark.ml.tuning import CrossValidator, ParamGridBuilder\n",
    "\n",
    "import matplotlib.pyplot as plt\n",
    "import matplotlib.dates as mdates\n",
    "%matplotlib inline"
   ]
  },
  {
   "cell_type": "code",
   "execution_count": 2,
   "metadata": {},
   "outputs": [],
   "source": [
    "# create a Spark session\n",
    "spark = SparkSession.builder \\\n",
    "    .master(\"local\") \\\n",
    "    .appName(\"Sparkify\") \\\n",
    "    .getOrCreate()"
   ]
  },
  {
   "cell_type": "markdown",
   "metadata": {},
   "source": [
    "# Load and Clean Dataset\n",
    "In this workspace, the mini-dataset file is `mini_sparkify_event_data.json`. Load and clean the dataset, checking for invalid or missing data - for example, records without userids or sessionids. "
   ]
  },
  {
   "cell_type": "code",
   "execution_count": 3,
   "metadata": {},
   "outputs": [],
   "source": [
    "sparkify_data = 'mini_sparkify_event_data.json'\n",
    "df = spark.read.json(sparkify_data)"
   ]
  },
  {
   "cell_type": "markdown",
   "metadata": {},
   "source": [
    "# Exploratory Data Analysis\n",
    "When you're working with the full dataset, perform EDA by loading a small subset of the data and doing basic manipulations within Spark. In this workspace, you are already provided a small subset of data you can explore.\n",
    "\n",
    "### Define Churn\n",
    "\n",
    "Once you've done some preliminary analysis, create a column `Churn` to use as the label for your model. I suggest using the `Cancellation Confirmation` events to define your churn, which happen for both paid and free users. As a bonus task, you can also look into the `Downgrade` events.\n",
    "\n",
    "### Explore Data\n",
    "Once you've defined churn, perform some exploratory data analysis to observe the behavior for users who stayed vs users who churned. You can start by exploring aggregates on these two groups of users, observing how much of a specific action they experienced per a certain time unit or number of songs played."
   ]
  },
  {
   "cell_type": "code",
   "execution_count": 4,
   "metadata": {},
   "outputs": [
    {
     "name": "stdout",
     "output_type": "stream",
     "text": [
      "root\n",
      " |-- artist: string (nullable = true)\n",
      " |-- auth: string (nullable = true)\n",
      " |-- firstName: string (nullable = true)\n",
      " |-- gender: string (nullable = true)\n",
      " |-- itemInSession: long (nullable = true)\n",
      " |-- lastName: string (nullable = true)\n",
      " |-- length: double (nullable = true)\n",
      " |-- level: string (nullable = true)\n",
      " |-- location: string (nullable = true)\n",
      " |-- method: string (nullable = true)\n",
      " |-- page: string (nullable = true)\n",
      " |-- registration: long (nullable = true)\n",
      " |-- sessionId: long (nullable = true)\n",
      " |-- song: string (nullable = true)\n",
      " |-- status: long (nullable = true)\n",
      " |-- ts: long (nullable = true)\n",
      " |-- userAgent: string (nullable = true)\n",
      " |-- userId: string (nullable = true)\n",
      "\n"
     ]
    }
   ],
   "source": [
    "df.printSchema()"
   ]
  },
  {
   "cell_type": "code",
   "execution_count": 5,
   "metadata": {},
   "outputs": [
    {
     "data": {
      "text/plain": [
       "286500"
      ]
     },
     "execution_count": 5,
     "metadata": {},
     "output_type": "execute_result"
    }
   ],
   "source": [
    "# Total sessions\n",
    "df.count()"
   ]
  },
  {
   "cell_type": "code",
   "execution_count": 6,
   "metadata": {},
   "outputs": [
    {
     "name": "stdout",
     "output_type": "stream",
     "text": [
      "+----------------------+\n",
      "|count(DISTINCT userId)|\n",
      "+----------------------+\n",
      "|                   226|\n",
      "+----------------------+\n",
      "\n"
     ]
    }
   ],
   "source": [
    "# Count User\n",
    "df.agg(countDistinct('userId')).show()"
   ]
  },
  {
   "cell_type": "code",
   "execution_count": 7,
   "metadata": {},
   "outputs": [
    {
     "data": {
      "text/plain": [
       "8346"
      ]
     },
     "execution_count": 7,
     "metadata": {},
     "output_type": "execute_result"
    }
   ],
   "source": [
    "df.where(df.userId == '').count()"
   ]
  },
  {
   "cell_type": "code",
   "execution_count": 8,
   "metadata": {},
   "outputs": [
    {
     "name": "stdout",
     "output_type": "stream",
     "text": [
      "+----------+----------------------+\n",
      "|      auth|count(DISTINCT userId)|\n",
      "+----------+----------------------+\n",
      "|Logged Out|                     1|\n",
      "| Cancelled|                    52|\n",
      "|     Guest|                     1|\n",
      "| Logged In|                   225|\n",
      "+----------+----------------------+\n",
      "\n"
     ]
    }
   ],
   "source": [
    "df.groupby('auth').agg(F.countDistinct('userId')).show()"
   ]
  },
  {
   "cell_type": "code",
   "execution_count": 9,
   "metadata": {},
   "outputs": [
    {
     "data": {
      "text/plain": [
       "[Row(artist=None, auth='Cancelled', firstName='Adriel', gender='M', itemInSession=104, lastName='Mendoza', length=None, level='paid', location='Kansas City, MO-KS', method='GET', page='Cancellation Confirmation', registration=1535623466000, sessionId=514, song=None, status=200, ts=1538943990000, userAgent='\"Mozilla/5.0 (Macintosh; Intel Mac OS X 10_9_4) AppleWebKit/537.77.4 (KHTML, like Gecko) Version/7.0.5 Safari/537.77.4\"', userId='18'),\n",
       " Row(artist=None, auth='Cancelled', firstName='Diego', gender='M', itemInSession=56, lastName='Mckee', length=None, level='paid', location='Phoenix-Mesa-Scottsdale, AZ', method='GET', page='Cancellation Confirmation', registration=1537167593000, sessionId=540, song=None, status=200, ts=1539033046000, userAgent='\"Mozilla/5.0 (iPhone; CPU iPhone OS 7_1_2 like Mac OS X) AppleWebKit/537.51.2 (KHTML, like Gecko) Version/7.0 Mobile/11D257 Safari/9537.53\"', userId='32'),\n",
       " Row(artist=None, auth='Cancelled', firstName='Mason', gender='M', itemInSession=10, lastName='Hart', length=None, level='free', location='Corpus Christi, TX', method='GET', page='Cancellation Confirmation', registration=1533157139000, sessionId=174, song=None, status=200, ts=1539318918000, userAgent='\"Mozilla/5.0 (Macintosh; Intel Mac OS X 10_9_4) AppleWebKit/537.36 (KHTML, like Gecko) Chrome/36.0.1985.125 Safari/537.36\"', userId='125'),\n",
       " Row(artist=None, auth='Cancelled', firstName='Alexander', gender='M', itemInSession=332, lastName='Garcia', length=None, level='paid', location='Indianapolis-Carmel-Anderson, IN', method='GET', page='Cancellation Confirmation', registration=1536817381000, sessionId=508, song=None, status=200, ts=1539375441000, userAgent='Mozilla/5.0 (Windows NT 6.1; WOW64; rv:31.0) Gecko/20100101 Firefox/31.0', userId='105'),\n",
       " Row(artist=None, auth='Cancelled', firstName='Kayla', gender='F', itemInSession=273, lastName='Johnson', length=None, level='paid', location='Philadelphia-Camden-Wilmington, PA-NJ-DE-MD', method='GET', page='Cancellation Confirmation', registration=1538333829000, sessionId=797, song=None, status=200, ts=1539465584000, userAgent='Mozilla/5.0 (Windows NT 6.1; WOW64; rv:24.0) Gecko/20100101 Firefox/24.0', userId='17')]"
      ]
     },
     "execution_count": 9,
     "metadata": {},
     "output_type": "execute_result"
    }
   ],
   "source": [
    "df.filter(df.auth == 'Cancelled').take(5)"
   ]
  },
  {
   "cell_type": "code",
   "execution_count": 10,
   "metadata": {},
   "outputs": [
    {
     "data": {
      "image/png": "[encoded data removed]",
      "text/plain": [
       "<matplotlib.figure.Figure at 0x7f2286444470>"
      ]
     },
     "metadata": {
      "needs_background": "light"
     },
     "output_type": "display_data"
    }
   ],
   "source": [
    "#Downgrade, Submit Downgrade\n",
    "pages = df.groupby('page','method').count().sort('method')\n",
    "pages_df = pages.toPandas()\n",
    "\n",
    "pages_df_plt = pages_df.loc[(pages_df['method'] == 'PUT') & (pages_df['page'] != 'NextSong')]\n",
    "\n",
    "activity = pages_df_plt['page']\n",
    "count = pages_df_plt['count']\n",
    "\n",
    "plt.barh(activity, count)\n",
    "plt.ylabel(\"Energy Source\")\n",
    "plt.xlabel(\"Energy Output (GJ)\")\n",
    "plt.title(\"Energy output from various fuel sources\")\n",
    "\n",
    "plt.show()"
   ]
  },
  {
   "cell_type": "code",
   "execution_count": 68,
   "metadata": {},
   "outputs": [
    {
     "name": "stdout",
     "output_type": "stream",
     "text": [
      "+--------------------+------+-----+\n",
      "|                page|method|count|\n",
      "+--------------------+------+-----+\n",
      "|               About|   GET|  924|\n",
      "|                Help|   GET| 1726|\n",
      "|           Downgrade|   GET| 2055|\n",
      "|            Register|   GET|   18|\n",
      "|             Upgrade|   GET|  499|\n",
      "|               Error|   GET|  258|\n",
      "|Cancellation Conf...|   GET|   52|\n",
      "|            Settings|   GET| 1514|\n",
      "|                Home|   GET|14457|\n",
      "|         Roll Advert|   GET| 3933|\n",
      "|          Add Friend|   PUT| 4277|\n",
      "|              Logout|   PUT| 3226|\n",
      "|              Cancel|   PUT|   52|\n",
      "|      Submit Upgrade|   PUT|  159|\n",
      "|     Add to Playlist|   PUT| 6526|\n",
      "|    Submit Downgrade|   PUT|   63|\n",
      "|         Thumbs Down|   PUT| 2546|\n",
      "|               Login|   PUT| 3241|\n",
      "|       Save Settings|   PUT|  310|\n",
      "| Submit Registration|   PUT|    5|\n",
      "+--------------------+------+-----+\n",
      "only showing top 20 rows\n",
      "\n"
     ]
    }
   ],
   "source": [
    "pages.show()"
   ]
  },
  {
   "cell_type": "code",
   "execution_count": 54,
   "metadata": {},
   "outputs": [
    {
     "name": "stdout",
     "output_type": "stream",
     "text": [
      "+--------------------+---------+------+---------------+-------------+---------------+---------+\n",
      "|              artist|     auth|method|       location| registration|           page|   length|\n",
      "+--------------------+---------+------+---------------+-------------+---------------+---------+\n",
      "|      Martha Tilston|Logged In|   PUT|Bakersfield, CA|1538173362000|       NextSong|277.89016|\n",
      "|        Adam Lambert|Logged In|   PUT|Bakersfield, CA|1538173362000|       NextSong| 282.8273|\n",
      "|           Daft Punk|Logged In|   PUT|Bakersfield, CA|1538173362000|       NextSong|223.60771|\n",
      "|        Starflyer 59|Logged In|   PUT|Bakersfield, CA|1538173362000|       NextSong|185.44281|\n",
      "|                null|Logged In|   PUT|Bakersfield, CA|1538173362000|Add to Playlist|     null|\n",
      "|            Frumpies|Logged In|   PUT|Bakersfield, CA|1538173362000|       NextSong|134.47791|\n",
      "|Edward Sharpe & T...|Logged In|   PUT|Bakersfield, CA|1538173362000|       NextSong|223.58159|\n",
      "|         Stan Mosley|Logged In|   PUT|Bakersfield, CA|1538173362000|       NextSong|246.69995|\n",
      "|             Orishas|Logged In|   PUT|Bakersfield, CA|1538173362000|       NextSong|222.22322|\n",
      "|            Downhere|Logged In|   PUT|Bakersfield, CA|1538173362000|       NextSong|223.92118|\n",
      "|             Skillet|Logged In|   PUT|Bakersfield, CA|1538173362000|       NextSong|233.32526|\n",
      "|Florence + The Ma...|Logged In|   PUT|Bakersfield, CA|1538173362000|       NextSong|219.66322|\n",
      "|          Nick Drake|Logged In|   PUT|Bakersfield, CA|1538173362000|       NextSong|222.92853|\n",
      "|Lambert_ Hendrick...|Logged In|   PUT|Bakersfield, CA|1538173362000|       NextSong|139.04934|\n",
      "|          Kanye West|Logged In|   PUT|Bakersfield, CA|1538173362000|       NextSong|311.84934|\n",
      "|  Redman / Ready Roc|Logged In|   PUT|Bakersfield, CA|1538173362000|       NextSong|217.91302|\n",
      "|The All-American ...|Logged In|   PUT|Bakersfield, CA|1538173362000|       NextSong|238.86322|\n",
      "|       Kings Of Leon|Logged In|   PUT|Bakersfield, CA|1538173362000|       NextSong| 204.2771|\n",
      "|            BjÃÂ¶rk|Logged In|   PUT|Bakersfield, CA|1538173362000|       NextSong|348.57751|\n",
      "|         The Prodigy|Logged In|   PUT|Bakersfield, CA|1538173362000|       NextSong|260.07465|\n",
      "+--------------------+---------+------+---------------+-------------+---------------+---------+\n",
      "only showing top 20 rows\n",
      "\n"
     ]
    }
   ],
   "source": [
    "df.filter(df.userId == '30').select(['artist','auth','method','location','registration','page','length']).show()"
   ]
  },
  {
   "cell_type": "code",
   "execution_count": 56,
   "metadata": {},
   "outputs": [
    {
     "name": "stdout",
     "output_type": "stream",
     "text": [
      "+-----+---------+----------------+-------------+------------------+\n",
      "|level|sessionId|            page|           ts|            length|\n",
      "+-----+---------+----------------+-------------+------------------+\n",
      "| free|     2281|            Home|1543548083000|              null|\n",
      "| free|     2155|      Add Friend|1543120417000|              null|\n",
      "| free|     2155|     Thumbs Down|1543117205000|              null|\n",
      "| free|     2155|            Home|1543114842000|              null|\n",
      "| free|     2155|          Logout|1543114535000|              null|\n",
      "| free|     2155|     Roll Advert|1543114106000|              null|\n",
      "| free|     2155|       Thumbs Up|1543111791000|              null|\n",
      "| free|     2155|           About|1543110822000|              null|\n",
      "| free|     2155| Add to Playlist|1543109614000|              null|\n",
      "| free|     2155|        NextSong|1543109551000|11182.815799999997|\n",
      "| free|     2094|        NextSong|1542799890000|         563.35582|\n",
      "| free|     2094|            Home|1542799886000|              null|\n",
      "| free|     2041|     Roll Advert|1542672916000|              null|\n",
      "| free|     2041|        NextSong|1542671679000|        1865.66169|\n",
      "| free|     2041|            Home|1542671520000|              null|\n",
      "| paid|     2041|Submit Downgrade|1542671497000|              null|\n",
      "| paid|     2041|      Add Friend|1542669594000|              null|\n",
      "| paid|     2041|            Home|1542665777000|              null|\n",
      "| paid|     2041|            Help|1542663511000|              null|\n",
      "| paid|     2041|     Thumbs Down|1542658874000|              null|\n",
      "| paid|     2041|       Thumbs Up|1542655091000|              null|\n",
      "| paid|     2041|       Downgrade|1542654089000|              null|\n",
      "| paid|     2041| Add to Playlist|1542653604000|              null|\n",
      "| paid|     2041|        Settings|1542653115000|              null|\n",
      "| paid|     2041|        NextSong|1542651137000|       20587.69085|\n",
      "| paid|     1881|           About|1542504324000|              null|\n",
      "| paid|     1881|     Thumbs Down|1542502295000|              null|\n",
      "| paid|     1881|            Home|1542497345000|              null|\n",
      "| paid|     1881|       Thumbs Up|1542493657000|              null|\n",
      "| paid|     1881|        NextSong|1542491397000|13187.164290000002|\n",
      "| paid|     1536|   Save Settings|1542086739000|              null|\n",
      "| paid|     1536|        Settings|1542086738000|              null|\n",
      "| paid|     1536|       Downgrade|1542082310000|              null|\n",
      "| paid|     1536|           Error|1542074331000|              null|\n",
      "| paid|     1536|     Thumbs Down|1542071954000|              null|\n",
      "| paid|     1536|            Help|1542069857000|              null|\n",
      "| paid|     1536| Add to Playlist|1542068154000|              null|\n",
      "| paid|     1536|      Add Friend|1542065920000|              null|\n",
      "| paid|     1536|       Thumbs Up|1542064069000|              null|\n",
      "| paid|     1536|        NextSong|1542060955000|25749.815960000004|\n",
      "| paid|     1536|            Home|1542060954000|              null|\n",
      "| paid|     1325|      Add Friend|1541129714000|              null|\n",
      "| paid|     1325|          Logout|1541126987000|              null|\n",
      "| paid|     1325|            Help|1541113176000|              null|\n",
      "| paid|     1325|     Thumbs Down|1541113069000|              null|\n",
      "| paid|     1325|       Downgrade|1541102571000|              null|\n",
      "| paid|     1325| Add to Playlist|1541100252000|              null|\n",
      "| paid|     1325|       Thumbs Up|1541097775000|              null|\n",
      "| paid|     1325|        NextSong|1541096859000| 37274.60396999998|\n",
      "| paid|     1325|            Home|1541096773000|              null|\n",
      "+-----+---------+----------------+-------------+------------------+\n",
      "only showing top 50 rows\n",
      "\n"
     ]
    }
   ],
   "source": [
    "# Downgrade Sample\n",
    "df.filter(col('userId') == '131').groupby(['level','sessionId','page']\\\n",
    "                                         ).agg(min(col('ts')).alias('ts'),\\\n",
    "                                              sum(col('length')).alias('length')).sort(col('ts').desc()).show(50)"
   ]
  },
  {
   "cell_type": "code",
   "execution_count": 13,
   "metadata": {},
   "outputs": [
    {
     "data": {
      "text/plain": [
       "[Row(artist='Martha Tilston', auth='Logged In', firstName='Colin', gender='M', itemInSession=50, lastName='Freeman', length=277.89016, level='paid', location='Bakersfield, CA', method='PUT', page='NextSong', registration=1538173362000, sessionId=29, song='Rockpools', status=200, ts=1538352117000, userAgent='Mozilla/5.0 (Windows NT 6.1; WOW64; rv:31.0) Gecko/20100101 Firefox/31.0', userId='30', date=datetime.date(2018, 10, 1))]"
      ]
     },
     "execution_count": 13,
     "metadata": {},
     "output_type": "execute_result"
    }
   ],
   "source": [
    "# Convert ts to date\n",
    "# from datetime import datetime\n",
    "# get_day = udf(lambda x: datetime.fromtimestamp(x / 1000.0))\n",
    "\n",
    "df_new = df.withColumn(\"date\", F.to_date(F.from_unixtime(col('ts')/lit(1000))))\n",
    "df_new.take(1)"
   ]
  },
  {
   "cell_type": "code",
   "execution_count": 14,
   "metadata": {},
   "outputs": [
    {
     "name": "stdout",
     "output_type": "stream",
     "text": [
      "+----------+\n",
      "| min(date)|\n",
      "+----------+\n",
      "|2018-10-01|\n",
      "+----------+\n",
      "\n"
     ]
    }
   ],
   "source": [
    "#2018-10-01 to 2018-12-03 cutoff 2018-11-30\n",
    "df_new.select('date').agg(min('date')).show()"
   ]
  },
  {
   "cell_type": "code",
   "execution_count": 15,
   "metadata": {},
   "outputs": [],
   "source": [
    "time = df_new.filter(col('date') < '2018-12-01' \\\n",
    "                    ).select(['date','sessionId','userId','level','song']\\\n",
    "                           ).groupby(['date','level']).agg(F.count(col('sessionId')), F.countDistinct(col('userId')),\\\n",
    "                                             F.count(col('song')))"
   ]
  },
  {
   "cell_type": "code",
   "execution_count": 16,
   "metadata": {},
   "outputs": [],
   "source": [
    "df_time = time.toPandas()"
   ]
  },
  {
   "cell_type": "code",
   "execution_count": 17,
   "metadata": {},
   "outputs": [
    {
     "data": {
      "text/html": [
       "<div>\n",
       "<style scoped>\n",
       "    .dataframe tbody tr th:only-of-type {\n",
       "        vertical-align: middle;\n",
       "    }\n",
       "\n",
       "    .dataframe tbody tr th {\n",
       "        vertical-align: top;\n",
       "    }\n",
       "\n",
       "    .dataframe thead th {\n",
       "        text-align: right;\n",
       "    }\n",
       "</style>\n",
       "<table border=\"1\" class=\"dataframe\">\n",
       "  <thead>\n",
       "    <tr style=\"text-align: right;\">\n",
       "      <th></th>\n",
       "      <th>date</th>\n",
       "      <th>level</th>\n",
       "      <th>count(sessionId)</th>\n",
       "      <th>count(DISTINCT userId)</th>\n",
       "      <th>count(song)</th>\n",
       "    </tr>\n",
       "  </thead>\n",
       "  <tbody>\n",
       "    <tr>\n",
       "      <th>0</th>\n",
       "      <td>2018-11-25</td>\n",
       "      <td>paid</td>\n",
       "      <td>2436</td>\n",
       "      <td>21</td>\n",
       "      <td>2000</td>\n",
       "    </tr>\n",
       "    <tr>\n",
       "      <th>1</th>\n",
       "      <td>2018-10-27</td>\n",
       "      <td>free</td>\n",
       "      <td>566</td>\n",
       "      <td>14</td>\n",
       "      <td>427</td>\n",
       "    </tr>\n",
       "    <tr>\n",
       "      <th>2</th>\n",
       "      <td>2018-10-24</td>\n",
       "      <td>paid</td>\n",
       "      <td>4700</td>\n",
       "      <td>49</td>\n",
       "      <td>3831</td>\n",
       "    </tr>\n",
       "    <tr>\n",
       "      <th>3</th>\n",
       "      <td>2018-10-20</td>\n",
       "      <td>paid</td>\n",
       "      <td>5025</td>\n",
       "      <td>34</td>\n",
       "      <td>4107</td>\n",
       "    </tr>\n",
       "    <tr>\n",
       "      <th>4</th>\n",
       "      <td>2018-10-20</td>\n",
       "      <td>free</td>\n",
       "      <td>850</td>\n",
       "      <td>20</td>\n",
       "      <td>605</td>\n",
       "    </tr>\n",
       "  </tbody>\n",
       "</table>\n",
       "</div>"
      ],
      "text/plain": [
       "         date level  count(sessionId)  count(DISTINCT userId)  count(song)\n",
       "0  2018-11-25  paid              2436                      21         2000\n",
       "1  2018-10-27  free               566                      14          427\n",
       "2  2018-10-24  paid              4700                      49         3831\n",
       "3  2018-10-20  paid              5025                      34         4107\n",
       "4  2018-10-20  free               850                      20          605"
      ]
     },
     "execution_count": 17,
     "metadata": {},
     "output_type": "execute_result"
    }
   ],
   "source": [
    "df_time.head()"
   ]
  },
  {
   "cell_type": "code",
   "execution_count": null,
   "metadata": {},
   "outputs": [],
   "source": []
  },
  {
   "cell_type": "code",
   "execution_count": 18,
   "metadata": {},
   "outputs": [
    {
     "data": {
      "image/png": "[encoded data removed]",
      "text/plain": [
       "<matplotlib.figure.Figure at 0x7f22512315f8>"
      ]
     },
     "metadata": {
      "needs_background": "light"
     },
     "output_type": "display_data"
    }
   ],
   "source": [
    "date = df_time['date']\n",
    "count = df_time['count(sessionId)']\n",
    "\n",
    "plt.gca().xaxis.set_major_formatter(mdates.DateFormatter('%m/%d/%Y'))\n",
    "plt.gca().xaxis.set_major_locator(mdates.DayLocator(interval=15))\n",
    "\n",
    "# beautifying the labels\n",
    "plt.plot_date(df_time['date'][df_time.level == \"paid\"], df_time['count(sessionId)'][df_time.level == \"paid\"], label = 'paid')\n",
    "plt.plot_date(df_time['date'][df_time.level == \"free\"], df_time['count(sessionId)'][df_time.level == \"free\"], label = 'free')\n",
    "plt.legend()\n",
    "plt.show()"
   ]
  },
  {
   "cell_type": "code",
   "execution_count": 19,
   "metadata": {},
   "outputs": [
    {
     "data": {
      "image/png": "[encoded data removed]",
      "text/plain": [
       "<matplotlib.figure.Figure at 0x7f2251207358>"
      ]
     },
     "metadata": {
      "needs_background": "light"
     },
     "output_type": "display_data"
    }
   ],
   "source": [
    "date = df_time['date']\n",
    "count = df_time['count(DISTINCT userId)']\n",
    "\n",
    "plt.gca().xaxis.set_major_formatter(mdates.DateFormatter('%m/%d/%Y'))\n",
    "plt.gca().xaxis.set_major_locator(mdates.DayLocator(interval=15))\n",
    "\n",
    "# beautifying the labels\n",
    "plt.plot_date(df_time['date'][df_time.level == \"paid\"], count[df_time.level == \"paid\"], label = 'paid')\n",
    "plt.plot_date(df_time['date'][df_time.level == \"free\"], count[df_time.level == \"free\"], label = 'free')\n",
    "plt.legend()\n",
    "plt.show()"
   ]
  },
  {
   "cell_type": "code",
   "execution_count": 20,
   "metadata": {},
   "outputs": [],
   "source": [
    "# User min date\n",
    "df_new = df_new.withColumn('date_created', F.to_date(F.from_unixtime(col('registration')/lit(1000))))"
   ]
  },
  {
   "cell_type": "code",
   "execution_count": 21,
   "metadata": {},
   "outputs": [
    {
     "name": "stdout",
     "output_type": "stream",
     "text": [
      "+-----------------+\n",
      "|min(date_created)|\n",
      "+-----------------+\n",
      "|       2018-03-18|\n",
      "+-----------------+\n",
      "\n"
     ]
    }
   ],
   "source": [
    "df_new.select('date_created').agg(min('date_created')).show()"
   ]
  },
  {
   "cell_type": "code",
   "execution_count": 22,
   "metadata": {},
   "outputs": [],
   "source": [
    "df_new = df_new.withColumn('user_age',F.datediff(col('date'),col('date_created')))"
   ]
  },
  {
   "cell_type": "code",
   "execution_count": 23,
   "metadata": {},
   "outputs": [
    {
     "name": "stdout",
     "output_type": "stream",
     "text": [
      "+-------+-----------------+\n",
      "|summary|         user_age|\n",
      "+-------+-----------------+\n",
      "|  count|           278154|\n",
      "|   mean|64.77642241348317|\n",
      "| stddev|41.92140025224181|\n",
      "|    min|               -2|\n",
      "|    max|              256|\n",
      "+-------+-----------------+\n",
      "\n"
     ]
    }
   ],
   "source": [
    "df_new.describe('user_age').show()"
   ]
  },
  {
   "cell_type": "code",
   "execution_count": 24,
   "metadata": {},
   "outputs": [],
   "source": [
    "cancel = udf(lambda auth: 1 if auth == 'Cancelled' else 0, IntegerType())"
   ]
  },
  {
   "cell_type": "code",
   "execution_count": 25,
   "metadata": {},
   "outputs": [],
   "source": [
    "cancelled = df_new.withColumn('cancel', cancel('auth'))"
   ]
  },
  {
   "cell_type": "code",
   "execution_count": 26,
   "metadata": {},
   "outputs": [],
   "source": [
    "df_cancelled = cancelled.filter(col('cancel') == 1).select(['date','user_age','level']).toPandas()"
   ]
  },
  {
   "cell_type": "code",
   "execution_count": 27,
   "metadata": {},
   "outputs": [
    {
     "data": {
      "text/plain": [
       "<matplotlib.axes._subplots.AxesSubplot at 0x7f22511757f0>"
      ]
     },
     "execution_count": 27,
     "metadata": {},
     "output_type": "execute_result"
    },
    {
     "data": {
      "image/png": "[encoded data removed]",
      "text/plain": [
       "<matplotlib.figure.Figure at 0x7f2251175358>"
      ]
     },
     "metadata": {
      "needs_background": "light"
     },
     "output_type": "display_data"
    }
   ],
   "source": [
    "df_cancelled['user_age'].hist()"
   ]
  },
  {
   "cell_type": "code",
   "execution_count": 29,
   "metadata": {},
   "outputs": [
    {
     "name": "stdout",
     "output_type": "stream",
     "text": [
      "root\n",
      " |-- artist: string (nullable = true)\n",
      " |-- auth: string (nullable = true)\n",
      " |-- firstName: string (nullable = true)\n",
      " |-- gender: string (nullable = true)\n",
      " |-- itemInSession: long (nullable = true)\n",
      " |-- lastName: string (nullable = true)\n",
      " |-- length: double (nullable = true)\n",
      " |-- level: string (nullable = true)\n",
      " |-- location: string (nullable = true)\n",
      " |-- method: string (nullable = true)\n",
      " |-- page: string (nullable = true)\n",
      " |-- registration: long (nullable = true)\n",
      " |-- sessionId: long (nullable = true)\n",
      " |-- song: string (nullable = true)\n",
      " |-- status: long (nullable = true)\n",
      " |-- ts: long (nullable = true)\n",
      " |-- userAgent: string (nullable = true)\n",
      " |-- userId: string (nullable = true)\n",
      " |-- date: date (nullable = true)\n",
      " |-- date_created: date (nullable = true)\n",
      " |-- user_age: integer (nullable = true)\n",
      " |-- cancel: integer (nullable = true)\n",
      "\n"
     ]
    }
   ],
   "source": [
    "cancelled.printSchema()"
   ]
  },
  {
   "cell_type": "code",
   "execution_count": 109,
   "metadata": {},
   "outputs": [],
   "source": [
    "inter = ['Thumbs Up', 'Thumbs Down', 'Add to Playlist', 'Add Friend']\n",
    "get_interactions = udf(lambda x: 1 if x in inter else 0, IntegerType())\n",
    "thumbs_down = udf(lambda x: 1 if x == 'Thumbs Up' else 0, IntegerType())\n",
    "\n",
    "songs = udf(lambda x: 1 if x == 'NextSong' else 0, IntegerType())"
   ]
  },
  {
   "cell_type": "code",
   "execution_count": 110,
   "metadata": {},
   "outputs": [],
   "source": [
    "interactions = cancelled.withColumn('interactions', get_interactions('page'))\n",
    "interactions = interactions.withColumn('thumbs_down', thumbs_down('page'))"
   ]
  },
  {
   "cell_type": "code",
   "execution_count": 111,
   "metadata": {},
   "outputs": [],
   "source": [
    "interactions = interactions.withColumn('songs', songs('page'))"
   ]
  },
  {
   "cell_type": "code",
   "execution_count": 112,
   "metadata": {},
   "outputs": [],
   "source": [
    "paid_hist = udf(lambda x: 1 if x == 'paid' else 0, IntegerType())\n",
    "interactions = interactions.withColumn('paid_hist', paid_hist('level'))"
   ]
  },
  {
   "cell_type": "code",
   "execution_count": 113,
   "metadata": {},
   "outputs": [],
   "source": [
    "downgrade = udf(lambda x: 1 if x == 'Submit Downgrade' else 0, IntegerType())\n",
    "interactions = interactions.withColumn('downgraded', downgrade('page'))"
   ]
  },
  {
   "cell_type": "code",
   "execution_count": 70,
   "metadata": {},
   "outputs": [
    {
     "data": {
      "text/plain": [
       "[Row(artist='Martha Tilston', auth='Logged In', firstName='Colin', gender='M', itemInSession=50, lastName='Freeman', length=277.89016, level='paid', location='Bakersfield, CA', method='PUT', page='NextSong', registration=1538173362000, sessionId=29, song='Rockpools', status=200, ts=1538352117000, userAgent='Mozilla/5.0 (Windows NT 6.1; WOW64; rv:31.0) Gecko/20100101 Firefox/31.0', userId='30', date=datetime.date(2018, 10, 1), date_created=datetime.date(2018, 9, 28), user_age=3, cancel=0, interactions='0', thumbs_down='0', songs='1', paid_hist='1', downgraded='0')]"
      ]
     },
     "execution_count": 70,
     "metadata": {},
     "output_type": "execute_result"
    }
   ],
   "source": [
    "interactions.take(1)"
   ]
  },
  {
   "cell_type": "code",
   "execution_count": 114,
   "metadata": {},
   "outputs": [],
   "source": [
    "dims = interactions.groupby('userId','gender','date_created').agg(\\\n",
    "                                                          max('user_age').alias('user_age'),\\\n",
    "                                                          max('paid_hist').alias('paid_user'),\\\n",
    "                                                          max('downgraded').alias('downgraded'),\\\n",
    "                                                          max('cancel').alias('canceled'))"
   ]
  },
  {
   "cell_type": "code",
   "execution_count": 74,
   "metadata": {},
   "outputs": [
    {
     "data": {
      "text/plain": [
       "[Row(userId='97', gender='F', date_created=datetime.date(2018, 9, 4), user_age=87, paid_user='1', downgraded='0', canceled=0)]"
      ]
     },
     "execution_count": 74,
     "metadata": {},
     "output_type": "execute_result"
    }
   ],
   "source": [
    "dims.take(1)"
   ]
  },
  {
   "cell_type": "code",
   "execution_count": 115,
   "metadata": {},
   "outputs": [],
   "source": [
    "measures = interactions.groupby('userId','sessionId').agg(\\\n",
    "                                                          min('date').alias('start_date'),\\\n",
    "                                                          max('date').alias('end_date'),\\\n",
    "                                                          sum('interactions').alias('interactions'),\\\n",
    "                                                          sum('thumbs_down').alias('thumbs_down'),\\\n",
    "                                                          sum('songs').alias('songs'),\\\n",
    "                                                          sum('length').alias('length'),\\\n",
    "                                                         F.countDistinct('artist').alias('c_artist'))"
   ]
  },
  {
   "cell_type": "code",
   "execution_count": 85,
   "metadata": {},
   "outputs": [
    {
     "data": {
      "text/plain": [
       "[Row(userId='101', sessionId=635, start_date=datetime.date(2018, 10, 9), end_date=datetime.date(2018, 10, 11), interactions=72.0, thumbs_down=35.0, songs=708.0, length=176615.41127, c_artist=587)]"
      ]
     },
     "execution_count": 85,
     "metadata": {},
     "output_type": "execute_result"
    }
   ],
   "source": [
    "measures.take(1)"
   ]
  },
  {
   "cell_type": "code",
   "execution_count": 116,
   "metadata": {},
   "outputs": [],
   "source": [
    "measures_lag = measures.withColumn('prev_end_date',\n",
    "                        F.lag(col('end_date')).over(Window.partitionBy('userID').orderBy('start_date')))"
   ]
  },
  {
   "cell_type": "code",
   "execution_count": 117,
   "metadata": {},
   "outputs": [],
   "source": [
    "measures_lag = measures_lag.withColumn('session_gap',\\\n",
    "                                      F.datediff(col('start_date'),col('prev_end_date')))"
   ]
  },
  {
   "cell_type": "code",
   "execution_count": 118,
   "metadata": {},
   "outputs": [],
   "source": [
    "measures_agg = measures_lag.groupby('userId').agg(\\\n",
    "                                                 F.count('sessionId').alias('total_session'),\\\n",
    "                                                 avg('interactions').alias('interactions'),\\\n",
    "                                                 avg('thumbs_down').alias('thumbs_down'),\\\n",
    "                                                 avg('songs').alias('songs'),\\\n",
    "                                                 avg('length').alias('length'),\\\n",
    "                                                 avg('c_artist').alias('artists'),\\\n",
    "                                                 avg('session_gap').alias('session_gap'))"
   ]
  },
  {
   "cell_type": "code",
   "execution_count": 119,
   "metadata": {},
   "outputs": [
    {
     "data": {
      "text/plain": [
       "[Row(userId='100010', total_session=7, interactions=4.714285714285714, thumbs_down=2.4285714285714284, songs=39.285714285714285, length=9562.985335714286, artists=38.57142857142857, session_gap=7.333333333333333)]"
      ]
     },
     "execution_count": 119,
     "metadata": {},
     "output_type": "execute_result"
    }
   ],
   "source": [
    "measures_agg.take(1)"
   ]
  },
  {
   "cell_type": "code",
   "execution_count": 100,
   "metadata": {},
   "outputs": [
    {
     "data": {
      "text/plain": [
       "226"
      ]
     },
     "execution_count": 100,
     "metadata": {},
     "output_type": "execute_result"
    }
   ],
   "source": [
    "measures_agg.count()\n",
    "dims.count()"
   ]
  },
  {
   "cell_type": "code",
   "execution_count": 120,
   "metadata": {},
   "outputs": [],
   "source": [
    "output = dims.join(measures_agg, on = 'userId')"
   ]
  },
  {
   "cell_type": "code",
   "execution_count": 121,
   "metadata": {},
   "outputs": [],
   "source": [
    "female = udf(lambda x: 1 if x == 'F' else 0, IntegerType())\n",
    "output = output.withColumn('female', female('gender'))"
   ]
  },
  {
   "cell_type": "code",
   "execution_count": 122,
   "metadata": {},
   "outputs": [
    {
     "name": "stdout",
     "output_type": "stream",
     "text": [
      "root\n",
      " |-- userId: string (nullable = true)\n",
      " |-- gender: string (nullable = true)\n",
      " |-- date_created: date (nullable = true)\n",
      " |-- user_age: integer (nullable = true)\n",
      " |-- paid_user: integer (nullable = true)\n",
      " |-- downgraded: integer (nullable = true)\n",
      " |-- canceled: integer (nullable = true)\n",
      " |-- total_session: long (nullable = false)\n",
      " |-- interactions: double (nullable = true)\n",
      " |-- thumbs_down: double (nullable = true)\n",
      " |-- songs: double (nullable = true)\n",
      " |-- length: double (nullable = true)\n",
      " |-- artists: double (nullable = true)\n",
      " |-- session_gap: double (nullable = true)\n",
      " |-- female: integer (nullable = true)\n",
      "\n"
     ]
    }
   ],
   "source": [
    "output.printSchema()"
   ]
  },
  {
   "cell_type": "code",
   "execution_count": 103,
   "metadata": {},
   "outputs": [],
   "source": [
    "from pyspark.ml.feature import VectorAssembler, Normalizer, StandardScaler"
   ]
  },
  {
   "cell_type": "code",
   "execution_count": 134,
   "metadata": {},
   "outputs": [],
   "source": [
    "assembler = VectorAssembler(inputCols=['female','user_age','paid_user',\\\n",
    "                                       'downgraded','total_session','interactions',\\\n",
    "                                      'thumbs_down','songs','length','artists','session_gap'],\\\n",
    "                            outputCol='NumFeatures',handleInvalid = 'skip')\n",
    "data = assembler.transform(output)"
   ]
  },
  {
   "cell_type": "code",
   "execution_count": 138,
   "metadata": {},
   "outputs": [
    {
     "name": "stdout",
     "output_type": "stream",
     "text": [
      "0\n",
      "1\n",
      "0\n",
      "0\n",
      "0\n",
      "0\n",
      "0\n",
      "0\n",
      "1\n",
      "0\n",
      "15\n"
     ]
    }
   ],
   "source": [
    "for i in ['female','user_age','paid_user',\\\n",
    "                                       'downgraded','total_session','interactions',\\\n",
    "                                      'thumbs_down','songs','length','artists','session_gap']:\n",
    "    print(output.where(col(i).isNull()).count())"
   ]
  },
  {
   "cell_type": "code",
   "execution_count": 139,
   "metadata": {},
   "outputs": [
    {
     "data": {
      "text/plain": [
       "[]"
      ]
     },
     "execution_count": 139,
     "metadata": {},
     "output_type": "execute_result"
    }
   ],
   "source": [
    "output.where(col('songs').isNull()).collect()"
   ]
  },
  {
   "cell_type": "code",
   "execution_count": 140,
   "metadata": {},
   "outputs": [],
   "source": [
    "data2 = data.select(col('canceled').alias('label'), col('NumFeatures').alias('features'))"
   ]
  },
  {
   "cell_type": "code",
   "execution_count": 128,
   "metadata": {},
   "outputs": [],
   "source": [
    "from pyspark.ml.classification import LogisticRegression"
   ]
  },
  {
   "cell_type": "code",
   "execution_count": 154,
   "metadata": {},
   "outputs": [
    {
     "data": {
      "text/plain": [
       "[Row(label=0, features=DenseVector([1.0, 55.0, 0.0, 0.0, 7.0, 4.7143, 2.4286, 39.2857, 9562.9853, 38.5714, 7.3333]))]"
      ]
     },
     "execution_count": 154,
     "metadata": {},
     "output_type": "execute_result"
    }
   ],
   "source": [
    "data2.take(1)"
   ]
  },
  {
   "cell_type": "code",
   "execution_count": 141,
   "metadata": {},
   "outputs": [
    {
     "ename": "AttributeError",
     "evalue": "'BinaryLogisticRegressionTrainingSummary' object has no attribute 'r2'",
     "output_type": "error",
     "traceback": [
      "\u001b[0;31m---------------------------------------------------------------------------\u001b[0m",
      "\u001b[0;31mAttributeError\u001b[0m                            Traceback (most recent call last)",
      "\u001b[0;32m<ipython-input-141-1af482b0f52f>\u001b[0m in \u001b[0;36m<module>\u001b[0;34m()\u001b[0m\n\u001b[1;32m      2\u001b[0m \u001b[0;34m\u001b[0m\u001b[0m\n\u001b[1;32m      3\u001b[0m \u001b[0mlrModel_q1\u001b[0m \u001b[0;34m=\u001b[0m \u001b[0mlr\u001b[0m\u001b[0;34m.\u001b[0m\u001b[0mfit\u001b[0m\u001b[0;34m(\u001b[0m\u001b[0mdata2\u001b[0m\u001b[0;34m)\u001b[0m\u001b[0;34m\u001b[0m\u001b[0m\n\u001b[0;32m----> 4\u001b[0;31m \u001b[0mlrModel_q1\u001b[0m\u001b[0;34m.\u001b[0m\u001b[0msummary\u001b[0m\u001b[0;34m.\u001b[0m\u001b[0mr2\u001b[0m\u001b[0;34m\u001b[0m\u001b[0m\n\u001b[0m",
      "\u001b[0;31mAttributeError\u001b[0m: 'BinaryLogisticRegressionTrainingSummary' object has no attribute 'r2'"
     ]
    }
   ],
   "source": [
    "lr = LogisticRegression(maxIter=10, regParam=0.0)\n",
    "lrModel_q1 = lr.fit(data2)"
   ]
  },
  {
   "cell_type": "code",
   "execution_count": 143,
   "metadata": {},
   "outputs": [
    {
     "data": {
      "text/plain": [
       "DenseMatrix(1, 11, [0.132, -0.0163, 1.1476, -0.2473, -0.159, 0.0515, -0.5753, -0.0022, 0.0, 0.0133, -0.7022], 1)"
      ]
     },
     "execution_count": 143,
     "metadata": {},
     "output_type": "execute_result"
    }
   ],
   "source": [
    "lrModel_q1.coefficientMatrix"
   ]
  },
  {
   "cell_type": "code",
   "execution_count": 144,
   "metadata": {},
   "outputs": [
    {
     "data": {
      "text/plain": [
       "0.8952380952380953"
      ]
     },
     "execution_count": 144,
     "metadata": {},
     "output_type": "execute_result"
    }
   ],
   "source": [
    "lrModel_q1.summary.accuracy"
   ]
  },
  {
   "cell_type": "code",
   "execution_count": 145,
   "metadata": {},
   "outputs": [],
   "source": [
    "scaler_q1 = Normalizer(inputCol=\"NumFeatures\", outputCol=\"FeatNormalizer\")\n",
    "data_norm = scaler_q1.transform(data)"
   ]
  },
  {
   "cell_type": "code",
   "execution_count": 156,
   "metadata": {},
   "outputs": [],
   "source": [
    "scaler_q2 = StandardScaler(inputCol=\"NumFeatures\", outputCol=\"FeatStandard\", withMean=True, withStd=True)\n",
    "stdmodel = scaler_q2.fit(data)\n",
    "data_std = stdmodel.transform(data)"
   ]
  },
  {
   "cell_type": "code",
   "execution_count": 155,
   "metadata": {},
   "outputs": [
    {
     "data": {
      "text/plain": [
       "[Row(userId='100010', gender='F', date_created=datetime.date(2018, 9, 27), user_age=55, paid_user=0, downgraded=0, canceled=0, total_session=7, interactions=4.714285714285714, thumbs_down=2.4285714285714284, songs=39.285714285714285, length=9562.985335714286, artists=38.57142857142857, session_gap=7.333333333333333, female=1, NumFeatures=DenseVector([1.0, 55.0, 0.0, 0.0, 7.0, 4.7143, 2.4286, 39.2857, 9562.9853, 38.5714, 7.3333]), FeatNormalizer=DenseVector([1.0, 55.0, 0.0, 0.0, 7.0, 4.7143, 2.4286, 39.2857, 9562.9853, 38.5714, 7.3333]))]"
      ]
     },
     "execution_count": 155,
     "metadata": {},
     "output_type": "execute_result"
    }
   ],
   "source": [
    "df.take(1)"
   ]
  },
  {
   "cell_type": "code",
   "execution_count": 157,
   "metadata": {},
   "outputs": [],
   "source": [
    "data3 = data_std.select(col('canceled').alias('label'), col('FeatStandard').alias('features'))\n",
    "lr = LogisticRegression(maxIter=10, regParam=0.0)\n",
    "\n",
    "lrModel_q1 = lr.fit(data3)"
   ]
  },
  {
   "cell_type": "code",
   "execution_count": 158,
   "metadata": {},
   "outputs": [
    {
     "data": {
      "text/plain": [
       "0.9047619047619048"
      ]
     },
     "execution_count": 158,
     "metadata": {},
     "output_type": "execute_result"
    }
   ],
   "source": [
    "lrModel_q1.summary.accuracy"
   ]
  },
  {
   "cell_type": "code",
   "execution_count": 148,
   "metadata": {},
   "outputs": [],
   "source": [
    "from pyspark.ml.tuning import CrossValidator, ParamGridBuilder\n",
    "from pyspark.ml import Pipeline\n",
    "from pyspark.ml.evaluation import MulticlassClassificationEvaluator"
   ]
  },
  {
   "cell_type": "code",
   "execution_count": null,
   "metadata": {},
   "outputs": [],
   "source": [
    "rest, validation = data2.randomSplit([0.8, 0.2], seed=42)\n",
    "pipeline = Pipeline(stages=[regexTokenizer, cv, idf, indexer, lr])\n",
    "\n",
    "paramGrid = ParamGridBuilder() \\\n",
    "    .addGrid(lr.regParam,[0.0, 0.1]) \\\n",
    "    .build()\n",
    "\n",
    "\n",
    "crossval = CrossValidator(estimator=pipeline,\n",
    "                          estimatorParamMaps=paramGrid,\n",
    "                          evaluator=MulticlassClassificationEvaluator(),\n",
    "                          numFolds=3)"
   ]
  },
  {
   "cell_type": "code",
   "execution_count": null,
   "metadata": {},
   "outputs": [],
   "source": [
    "cvModel_q1 = crossval.fit(rest)\n",
    "cvModel_q1.avgMetrics\n",
    "results = cvModel_q1.transform(validation)"
   ]
  },
  {
   "cell_type": "code",
   "execution_count": null,
   "metadata": {},
   "outputs": [],
   "source": [
    "print(results.filter(results.label == results.prediction).count())\n",
    "print(results.count())"
   ]
  },
  {
   "cell_type": "code",
   "execution_count": null,
   "metadata": {},
   "outputs": [],
   "source": [
    "# define churn\n",
    "# Downgrade: Submit Downgrade\n",
    "# Cancel: "
   ]
  },
  {
   "cell_type": "markdown",
   "metadata": {},
   "source": [
    "# Feature Engineering\n",
    "Once you've familiarized yourself with the data, build out the features you find promising to train your model on. To work with the full dataset, you can follow the following steps.\n",
    "- Write a script to extract the necessary features from the smaller subset of data\n",
    "- Ensure that your script is scalable, using the best practices discussed in Lesson 3\n",
    "- Try your script on the full data set, debugging your script if necessary\n",
    "\n",
    "If you are working in the classroom workspace, you can just extract features based on the small subset of data contained here. Be sure to transfer over this work to the larger dataset when you work on your Spark cluster."
   ]
  },
  {
   "cell_type": "code",
   "execution_count": null,
   "metadata": {},
   "outputs": [],
   "source": []
  },
  {
   "cell_type": "markdown",
   "metadata": {},
   "source": [
    "# Modeling\n",
    "Split the full dataset into train, test, and validation sets. Test out several of the machine learning methods you learned. Evaluate the accuracy of the various models, tuning parameters as necessary. Determine your winning model based on test accuracy and report results on the validation set. Since the churned users are a fairly small subset, I suggest using F1 score as the metric to optimize."
   ]
  },
  {
   "cell_type": "code",
   "execution_count": null,
   "metadata": {},
   "outputs": [],
   "source": []
  },
  {
   "cell_type": "markdown",
   "metadata": {},
   "source": [
    "# Final Steps\n",
    "Clean up your code, adding comments and renaming variables to make the code easier to read and maintain. Refer to the Spark Project Overview page and Data Scientist Capstone Project Rubric to make sure you are including all components of the capstone project and meet all expectations. Remember, this includes thorough documentation in a README file in a Github repository, as well as a web app or blog post."
   ]
  },
  {
   "cell_type": "code",
   "execution_count": null,
   "metadata": {},
   "outputs": [],
   "source": []
  }
 ],
 "metadata": {
  "kernelspec": {
   "display_name": "Python 3",
   "language": "python",
   "name": "python3"
  },
  "language_info": {
   "codemirror_mode": {
    "name": "ipython",
    "version": 3
   },
   "file_extension": ".py",
   "mimetype": "text/x-python",
   "name": "python",
   "nbconvert_exporter": "python",
   "pygments_lexer": "ipython3",
   "version": "3.6.3"
  }
 },
 "nbformat": 4,
 "nbformat_minor": 2
}
