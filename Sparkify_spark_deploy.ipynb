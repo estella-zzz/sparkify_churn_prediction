{
 "cells": [
  {
   "cell_type": "markdown",
   "metadata": {},
   "source": [
    "# Sparkify Spark Deployment\n",
    "This project intends to use Sparkify user data to identify at-risk users who will likely churn.Full data (12GB) is used model training and hyperparameter tuning."
   ]
  },
  {
   "cell_type": "code",
   "execution_count": 1,
   "metadata": {},
   "outputs": [],
   "source": [
    "# Import libraries\n",
    "from pyspark.sql import SparkSession\n",
    "import pyspark.sql.functions as F\n",
    "from pyspark.sql.functions import avg, col, concat, desc, lit, min, max, split, udf, countDistinct, sum, count\n",
    "from pyspark.sql.types import IntegerType, DoubleType\n",
    "from pyspark.sql import Window\n",
    "\n",
    "from pyspark.ml import Pipeline\n",
    "from pyspark.ml.feature import VectorAssembler, StandardScaler\n",
    "from pyspark.ml.classification import LogisticRegression,GBTClassifier,LinearSVC, RandomForestClassifier\n",
    "from pyspark.ml.evaluation import MulticlassClassificationEvaluator\n",
    "from pyspark.mllib.evaluation import MulticlassMetrics\n",
    "from pyspark.ml.tuning import CrossValidator, ParamGridBuilder\n",
    "\n",
    "import numpy as np\n",
    "import pandas as pd\n",
    "\n",
    "import matplotlib.pyplot as plt\n",
    "import matplotlib.dates as mdates\n",
    "%matplotlib inline\n",
    "\n",
    "import seaborn as sns"
   ]
  },
  {
   "cell_type": "code",
   "execution_count": 2,
   "metadata": {},
   "outputs": [],
   "source": [
    "# Create a Spark session\n",
    "spark = SparkSession \\\n",
    "    .builder \\\n",
    "    .appName(\"Sparkify\") \\\n",
    "    .getOrCreate()"
   ]
  },
  {
   "cell_type": "markdown",
   "metadata": {},
   "source": [
    "# Load and Clean Dataset"
   ]
  },
  {
   "cell_type": "code",
   "execution_count": 3,
   "metadata": {},
   "outputs": [],
   "source": [
    "# Read in full sparkify dataset\n",
    "event_data = \"s3n://udacity-dsnd/sparkify/sparkify_event_data.json\"\n",
    "df = spark.read.json(event_data)\n",
    "df.head()"
   ]
  },
  {
   "cell_type": "code",
   "execution_count": 4,
   "metadata": {
    "tags": []
   },
   "outputs": [
    {
     "name": "stdout",
     "output_type": "stream",
     "text": [
      "root\n",
      " |-- artist: string (nullable = true)\n",
      " |-- auth: string (nullable = true)\n",
      " |-- firstName: string (nullable = true)\n",
      " |-- gender: string (nullable = true)\n",
      " |-- itemInSession: long (nullable = true)\n",
      " |-- lastName: string (nullable = true)\n",
      " |-- length: double (nullable = true)\n",
      " |-- level: string (nullable = true)\n",
      " |-- location: string (nullable = true)\n",
      " |-- method: string (nullable = true)\n",
      " |-- page: string (nullable = true)\n",
      " |-- registration: long (nullable = true)\n",
      " |-- sessionId: long (nullable = true)\n",
      " |-- song: string (nullable = true)\n",
      " |-- status: long (nullable = true)\n",
      " |-- ts: long (nullable = true)\n",
      " |-- userAgent: string (nullable = true)\n",
      " |-- userId: string (nullable = true)\n",
      "\n"
     ]
    }
   ],
   "source": [
    "# Print Schema\n",
    "df.printSchema()"
   ]
  },
  {
   "cell_type": "code",
   "execution_count": 5,
   "metadata": {},
   "outputs": [
    {
     "name": "stdout",
     "output_type": "stream",
     "text": [
      "Total activity records:  286500\n"
     ]
    }
   ],
   "source": [
    "# Total sessions\n",
    "print('Total activity records: ',df.count())"
   ]
  },
  {
   "cell_type": "code",
   "execution_count": 6,
   "metadata": {},
   "outputs": [],
   "source": [
    "# Filter out status Guest and Logged Out to exclude guests\n",
    "df_clean = df.filter((col('auth') == 'Cancelled') | (col('auth') == 'Logged In'))"
   ]
  },
  {
   "cell_type": "code",
   "execution_count": 7,
   "metadata": {
    "tags": []
   },
   "outputs": [
    {
     "name": "stdout",
     "output_type": "stream",
     "text": [
      "+----------------------+\n",
      "|count(DISTINCT userId)|\n",
      "+----------------------+\n",
      "|                   225|\n",
      "+----------------------+\n",
      "\n"
     ]
    }
   ],
   "source": [
    "# Count User\n",
    "df_clean.agg(countDistinct('userId')).show()"
   ]
  },
  {
   "cell_type": "code",
   "execution_count": 8,
   "metadata": {},
   "outputs": [
    {
     "data": {
      "text/plain": [
       "0"
      ]
     },
     "execution_count": 8,
     "metadata": {},
     "output_type": "execute_result"
    }
   ],
   "source": [
    "# Check for nulls\n",
    "df_clean.filter(df_clean.userId == '').count()"
   ]
  },
  {
   "cell_type": "code",
   "execution_count": 9,
   "metadata": {},
   "outputs": [
    {
     "data": {
      "text/plain": [
       "0"
      ]
     },
     "execution_count": 9,
     "metadata": {},
     "output_type": "execute_result"
    }
   ],
   "source": [
    "df_clean.filter(df_clean.sessionId == '').count()"
   ]
  },
  {
   "cell_type": "markdown",
   "metadata": {},
   "source": [
    "# Feature Engineering"
   ]
  },
  {
   "cell_type": "code",
   "execution_count": 10,
   "metadata": {},
   "outputs": [],
   "source": [
    "# Get churn 1/0\n",
    "cancel = udf(lambda auth: 1 if auth == 'Cancelled' else 0, IntegerType())\n",
    "df_clean = df_clean.withColumn('cancel', cancel('auth'))"
   ]
  },
  {
   "cell_type": "code",
   "execution_count": 11,
   "metadata": {},
   "outputs": [],
   "source": [
    "# Convert ts to date\n",
    "df_feat = df_clean.withColumn(\"date\", F.to_date(F.from_unixtime(col('ts')/lit(1000))))"
   ]
  },
  {
   "cell_type": "code",
   "execution_count": 12,
   "metadata": {
    "tags": []
   },
   "outputs": [
    {
     "name": "stdout",
     "output_type": "stream",
     "text": [
      "+----------+\n",
      "| min(date)|\n",
      "+----------+\n",
      "|2018-10-01|\n",
      "+----------+\n",
      "\n"
     ]
    }
   ],
   "source": [
    "# Get date range\n",
    "df_feat.select('date').agg(min('date')).show()"
   ]
  },
  {
   "cell_type": "code",
   "execution_count": 13,
   "metadata": {},
   "outputs": [
    {
     "name": "stdout",
     "output_type": "stream",
     "text": [
      "+----------+\n",
      "| max(date)|\n",
      "+----------+\n",
      "|2018-12-03|\n",
      "+----------+\n",
      "\n"
     ]
    }
   ],
   "source": [
    "df_feat.select('date').agg(max('date')).show()"
   ]
  },
  {
   "cell_type": "code",
   "execution_count": 14,
   "metadata": {},
   "outputs": [],
   "source": [
    "# User registration date\n",
    "df_feat = df_feat.withColumn('date_created', F.to_date(F.from_unixtime(col('registration')/lit(1000))))"
   ]
  },
  {
   "cell_type": "code",
   "execution_count": 15,
   "metadata": {},
   "outputs": [],
   "source": [
    "# Get user age at the activity date\n",
    "df_feat = df_feat.withColumn('user_age',F.datediff(col('date'),col('date_created')))"
   ]
  },
  {
   "cell_type": "code",
   "execution_count": 16,
   "metadata": {},
   "outputs": [
    {
     "data": {
      "text/plain": [
       "<matplotlib.axes._subplots.AxesSubplot at 0x7f3b6a830f98>"
      ]
     },
     "execution_count": 16,
     "metadata": {},
     "output_type": "execute_result"
    },
    {
     "data": {
      "image/png": "[encoded data removed]",
      "text/plain": [
       "<matplotlib.figure.Figure at 0x7f3b9b5fe0b8>"
      ]
     },
     "metadata": {
      "needs_background": "light"
     },
     "output_type": "display_data"
    }
   ],
   "source": [
    "#User cancel by age\n",
    "df_cancelled = df_feat.filter(col('cancel') == 1).select(['date','user_age','level']).toPandas()\n",
    "\n",
    "df_cancelled['user_age'].hist()"
   ]
  },
  {
   "cell_type": "code",
   "execution_count": 17,
   "metadata": {},
   "outputs": [],
   "source": [
    "# Get user interactions except for playing songs\n",
    "inter = ['Thumbs Up', 'Thumbs Down', 'Add to Playlist', 'Add Friend']\n",
    "get_interactions = udf(lambda x: 1 if x in inter else 0, IntegerType())\n",
    "\n",
    "# Get negative feedback from user\n",
    "thumbs_down = udf(lambda x: 1 if x == 'Thumbs Up' else 0, IntegerType())\n",
    "\n",
    "df_feat = df_feat.withColumn('interactions', get_interactions('page'))\n",
    "df_feat = df_feat.withColumn('thumbs_down', thumbs_down('page'))"
   ]
  },
  {
   "cell_type": "code",
   "execution_count": 18,
   "metadata": {},
   "outputs": [],
   "source": [
    "# Get number of songs played\n",
    "songs = udf(lambda x: 1 if x == 'NextSong' else 0, IntegerType())\n",
    "df_feat = df_feat.withColumn('songs', songs('page'))"
   ]
  },
  {
   "cell_type": "code",
   "execution_count": 19,
   "metadata": {},
   "outputs": [],
   "source": [
    "# Has the user ever used paied service\n",
    "paid_hist = udf(lambda x: 1 if x == 'paid' else 0, IntegerType())\n",
    "df_feat = df_feat.withColumn('paid_hist', paid_hist('level'))\n",
    "\n",
    "# Has the user ever downgraded\n",
    "downgrade = udf(lambda x: 1 if x == 'Submit Downgrade' else 0, IntegerType())\n",
    "df_feat = df_feat.withColumn('downgraded', downgrade('page'))"
   ]
  },
  {
   "cell_type": "code",
   "execution_count": 20,
   "metadata": {},
   "outputs": [],
   "source": [
    "# Convert gender to 1/0. 1 = female\n",
    "female = udf(lambda x: 1 if x == 'F' else 0, IntegerType())\n",
    "df_feat = df_feat.withColumn('female', female('gender'))"
   ]
  },
  {
   "cell_type": "code",
   "execution_count": 21,
   "metadata": {},
   "outputs": [],
   "source": [
    "# Get user level dimensions\n",
    "dims = df_feat.groupby('userId','female','date_created').agg(\\\n",
    "                                                          max('user_age').alias('user_age'),\\\n",
    "                                                          max('paid_hist').alias('paid_user'),\\\n",
    "                                                          max('downgraded').alias('downgraded'),\\\n",
    "                                                          max('cancel').alias('canceled'))"
   ]
  },
  {
   "cell_type": "code",
   "execution_count": 22,
   "metadata": {},
   "outputs": [
    {
     "data": {
      "text/plain": [
       "[Row(userId='142', female=0, date_created=datetime.date(2018, 9, 28), user_age=63, paid_user=1, downgraded=0, canceled=0)]"
      ]
     },
     "execution_count": 22,
     "metadata": {},
     "output_type": "execute_result"
    }
   ],
   "source": [
    "# Inspect Dimensions\n",
    "dims.take(1)"
   ]
  },
  {
   "cell_type": "code",
   "execution_count": 23,
   "metadata": {},
   "outputs": [],
   "source": [
    "# Get measures based on usersessions and interactions\n",
    "measures = df_feat.groupby('userId','sessionId').agg(\\\n",
    "                                                          min('date').alias('start_date'),\\\n",
    "                                                          max('date').alias('end_date'),\\\n",
    "                                                          sum('interactions').alias('interactions'),\\\n",
    "                                                          sum('thumbs_down').alias('thumbs_down'),\\\n",
    "                                                          sum('songs').alias('songs'),\\\n",
    "                                                          sum('length').alias('length'),\\\n",
    "                                                          countDistinct('artist').alias('c_artist'))"
   ]
  },
  {
   "cell_type": "code",
   "execution_count": 24,
   "metadata": {},
   "outputs": [],
   "source": [
    "# Get the date gap between sessions\n",
    "measures_lag = measures.withColumn('prev_end_date',\n",
    "                        F.lag(col('end_date')).over(Window.partitionBy('userID').orderBy('start_date')))\n",
    "\n",
    "measures_lag = measures_lag.withColumn('session_gap',\\\n",
    "                                      F.datediff(col('start_date'),col('prev_end_date')))\n",
    "\n",
    "measures_agg = measures_lag.groupby('userId').agg(\\\n",
    "                                                 F.count('sessionId').alias('total_session'),\\\n",
    "                                                 avg('interactions').alias('interactions'),\\\n",
    "                                                 avg('thumbs_down').alias('thumbs_down'),\\\n",
    "                                                 avg('songs').alias('songs'),\\\n",
    "                                                 avg('length').alias('length'),\\\n",
    "                                                 avg('c_artist').alias('artists'),\\\n",
    "                                                 avg('session_gap').alias('session_gap'))"
   ]
  },
  {
   "cell_type": "code",
   "execution_count": 25,
   "metadata": {},
   "outputs": [
    {
     "data": {
      "text/plain": [
       "[Row(userId='100010', total_session=7, interactions=4.714285714285714, thumbs_down=2.4285714285714284, songs=39.285714285714285, length=9562.985335714286, artists=38.57142857142857, session_gap=7.333333333333333)]"
      ]
     },
     "execution_count": 25,
     "metadata": {},
     "output_type": "execute_result"
    }
   ],
   "source": [
    "# Inspect measures\n",
    "measures_agg.take(1)"
   ]
  },
  {
   "cell_type": "code",
   "execution_count": 26,
   "metadata": {},
   "outputs": [
    {
     "name": "stdout",
     "output_type": "stream",
     "text": [
      "dim:  225  measure:  225\n"
     ]
    }
   ],
   "source": [
    "# Inspect dim and measure shape\n",
    "print('dim: ',dims.count(),' measure: ',measures_agg.count())"
   ]
  },
  {
   "cell_type": "code",
   "execution_count": 27,
   "metadata": {},
   "outputs": [],
   "source": [
    "# Join dims and measures\n",
    "output = dims.join(measures_agg, on = 'userId')"
   ]
  },
  {
   "cell_type": "code",
   "execution_count": 28,
   "metadata": {},
   "outputs": [],
   "source": [
    "# Inspect aggregated data\n",
    "# model_df = output.toPandas()\n",
    "\n",
    "# model_df.hist(figsize = (10,10))"
   ]
  },
  {
   "cell_type": "code",
   "execution_count": 29,
   "metadata": {},
   "outputs": [],
   "source": [
    "# Get correlations\n",
    "# sns.set(rc={'figure.figsize':(10,10)},font_scale=1)\n",
    "# sns.heatmap(model_df.corr(), annot=True)"
   ]
  },
  {
   "cell_type": "markdown",
   "metadata": {},
   "source": [
    "# Modeling"
   ]
  },
  {
   "cell_type": "code",
   "execution_count": 30,
   "metadata": {},
   "outputs": [],
   "source": [
    "# Assemble num features\n",
    "assembler = VectorAssembler(inputCols=['female','user_age','paid_user',\\\n",
    "                                       'downgraded','total_session','interactions',\\\n",
    "                                      'thumbs_down','length','session_gap'],\\\n",
    "                            outputCol='NumFeatures',handleInvalid = 'skip')\n",
    "data = assembler.transform(output)"
   ]
  },
  {
   "cell_type": "code",
   "execution_count": 31,
   "metadata": {},
   "outputs": [],
   "source": [
    "# Use 'canceled' as model prediction label\n",
    "data = data.withColumnRenamed('canceled','label')"
   ]
  },
  {
   "cell_type": "code",
   "execution_count": 32,
   "metadata": {},
   "outputs": [],
   "source": [
    "# Get weighted col\n",
    "balancingRatio = data.filter(col('label') == 1).count() / data.count()\n",
    "calculateWeights = udf(lambda x: 1 * balancingRatio if x == 0 else (1 * (1.0 - balancingRatio)), DoubleType())\n",
    "\n",
    "data = data.withColumn(\"classWeightCol\", calculateWeights('label'))"
   ]
  },
  {
   "cell_type": "code",
   "execution_count": 33,
   "metadata": {},
   "outputs": [],
   "source": [
    "# Split train test set\n",
    "test, validation = data.randomSplit([0.8, 0.2], seed=42)"
   ]
  },
  {
   "cell_type": "code",
   "execution_count": 41,
   "metadata": {},
   "outputs": [],
   "source": [
    "# Build pipeline\n",
    "standardscaler = StandardScaler(inputCol=\"NumFeatures\", outputCol=\"features\", withMean=True, withStd=True)\n",
    "\n",
    "lr = LogisticRegression(maxIter=10, regParam=0.0, weightCol = 'classWeightCol')\n",
    "rf = RandomForestClassifier()"
   ]
  },
  {
   "cell_type": "code",
   "execution_count": 35,
   "metadata": {},
   "outputs": [],
   "source": [
    "def fit_model(model, paramGrid = None):\n",
    "    pipeline = Pipeline(stages=[standardscaler, model])\n",
    "    \n",
    "    if paramGrid != None:\n",
    "        crossval = CrossValidator(estimator=pipeline,\n",
    "                          estimatorParamMaps=paramGrid,\n",
    "                          evaluator=MulticlassClassificationEvaluator(),\n",
    "                          numFolds=3)\n",
    "        fitmodel = crossval.fit(test)\n",
    "    else:\n",
    "        fitmodel = pipeline.fit(test)\n",
    "    \n",
    "    results = fitmodel.transform(validation)\n",
    "    \n",
    "    return fitmodel, results"
   ]
  },
  {
   "cell_type": "code",
   "execution_count": 36,
   "metadata": {},
   "outputs": [],
   "source": [
    "def val_evaluation(results):\n",
    "    predictionAndLabels = results.select(['prediction', 'label']\\\n",
    "                                      ).withColumn('label',col('label').cast(DoubleType())).rdd\n",
    "\n",
    "    metrics = MulticlassMetrics(predictionAndLabels)\n",
    "    cm=metrics.confusionMatrix().toArray()\n",
    "    \n",
    "    accuracy=(cm[0][0]+cm[1][1])/cm.sum()\n",
    "    precision=(cm[1][1])/(cm[0][1]+cm[1][1])\n",
    "    recall=(cm[1][1])/(cm[1][0]+cm[1][1])\n",
    "    return(round(accuracy,2),round(precision,2),round(recall,2))"
   ]
  },
  {
   "cell_type": "markdown",
   "metadata": {},
   "source": [
    "### Logistic Regression Tuning"
   ]
  },
  {
   "cell_type": "code",
   "execution_count": 42,
   "metadata": {},
   "outputs": [],
   "source": [
    "lr_paramGrid = ParamGridBuilder() \\\n",
    "    .addGrid(lr.regParam,[0.0, 0.1])\\\n",
    "    .addGrid(lr.threshold,[0.3,0.4,0.5])\\\n",
    "    .build()"
   ]
  },
  {
   "cell_type": "code",
   "execution_count": 330,
   "metadata": {},
   "outputs": [],
   "source": [
    "lrmodel, lrresults = fit_model(lr, paramGrid = lr_paramGrid)"
   ]
  },
  {
   "cell_type": "code",
   "execution_count": 334,
   "metadata": {
    "tags": []
   },
   "outputs": [
    {
     "name": "stdout",
     "output_type": "stream",
     "text": [
      "{Param(parent='LogisticRegression_ed0d8ca19f83', name='regParam', doc='regularization parameter (>= 0).'): 0.0, Param(parent='StandardScaler_69688664895a', name='withStd', doc='Scale to unit standard deviation'): True}\n"
     ]
    }
   ],
   "source": [
    "bp_index = lrmodel.avgMetrics.index(np.max(lrmodel.avgMetrics))\n",
    "bp = lr_paramGrid[bp_index]\n",
    "print(bp)"
   ]
  },
  {
   "cell_type": "code",
   "execution_count": null,
   "metadata": {},
   "outputs": [],
   "source": [
    "print(\"LogisticRegression: accuracy,precision,recall\", val_evaluation(lrresults))"
   ]
  },
  {
   "cell_type": "code",
   "execution_count": 116,
   "metadata": {},
   "outputs": [],
   "source": [
    "# Extract feature names from the original data\n",
    "dict_feats = data.schema['NumFeatures'].metadata['ml_attr']['attrs']['numeric']\n",
    "list_feats = np.array([x['name'] for x in dict_feats])"
   ]
  },
  {
   "cell_type": "code",
   "execution_count": 131,
   "metadata": {},
   "outputs": [
    {
     "data": {
      "image/png": "[encoded data removed]",
      "text/plain": [
       "<matplotlib.figure.Figure at 0x7fe38df253c8>"
      ]
     },
     "metadata": {},
     "output_type": "display_data"
    }
   ],
   "source": [
    "# Get coefficients\n",
    "lr_corr = lrmodel.bestModel.stages[-1].coefficients\n",
    "plt.bar(list_feats,lr_corr)\n",
    "plt.xticks(rotation='vertical')\n",
    "plt.title('Logistic Regression Coefficients')\n",
    "plt.show()"
   ]
  },
  {
   "cell_type": "markdown",
   "metadata": {},
   "source": [
    "### Random Forest Tuning"
   ]
  },
  {
   "cell_type": "code",
   "execution_count": 44,
   "metadata": {},
   "outputs": [],
   "source": [
    "rf_paramGrid = ParamGridBuilder() \\\n",
    "    .addGrid(rf.maxDepth,[5,10,20])\\\n",
    "    .addGrid(rf.numTrees,[20,30])\\\n",
    "    .build()"
   ]
  },
  {
   "cell_type": "code",
   "execution_count": null,
   "metadata": {},
   "outputs": [],
   "source": [
    "rfmodel, rfresults = fit_model(rf, paramGrid = rf_paramGrid)"
   ]
  },
  {
   "cell_type": "code",
   "execution_count": null,
   "metadata": {},
   "outputs": [],
   "source": [
    "brf_index = rfmodel.avgMetrics.index(np.max(rfmodel.avgMetrics))\n",
    "brf = rf_paramGrid[brf_index]\n",
    "print(brf)"
   ]
  },
  {
   "cell_type": "code",
   "execution_count": null,
   "metadata": {},
   "outputs": [],
   "source": [
    "print(\"RandomForest: accuracy,precision,recall\", val_evaluation(rfresults))"
   ]
  },
  {
   "cell_type": "code",
   "execution_count": 117,
   "metadata": {},
   "outputs": [],
   "source": [
    "# Extract feature importance from rfmodel\n",
    "featImportances = np.array(rfmodel.bestModel.stages[-1].featureImportances)"
   ]
  },
  {
   "cell_type": "code",
   "execution_count": 132,
   "metadata": {},
   "outputs": [
    {
     "data": {
      "image/png": "[encoded data removed]",
      "text/plain": [
       "<matplotlib.figure.Figure at 0x7fe38df25da0>"
      ]
     },
     "metadata": {},
     "output_type": "display_data"
    }
   ],
   "source": [
    "plt.bar(list_feats,featImportances)\n",
    "plt.xticks(rotation='vertical')\n",
    "plt.title('Random Forest Feature Importances')\n",
    "plt.show()"
   ]
  }
 ],
 "metadata": {
  "kernelspec": {
   "display_name": "Python 3",
   "language": "python",
   "name": "python3"
  },
  "language_info": {
   "codemirror_mode": {
    "name": "ipython",
    "version": 3
   },
   "file_extension": ".py",
   "mimetype": "text/x-python",
   "name": "python",
   "nbconvert_exporter": "python",
   "pygments_lexer": "ipython3",
   "version": "3.6.3"
  }
 },
 "nbformat": 4,
 "nbformat_minor": 2
}